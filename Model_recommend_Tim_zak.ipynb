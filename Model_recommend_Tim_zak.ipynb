{
 "cells": [
  {
   "cell_type": "code",
   "execution_count": 1,
   "metadata": {
    "colab": {
     "base_uri": "https://localhost:8080/"
    },
    "id": "Lp_wc9DweCVC",
    "outputId": "b18a9f03-2d24-4420-e78c-5f3c0222f62f"
   },
   "outputs": [
    {
     "name": "stdout",
     "output_type": "stream",
     "text": [
      "Requirement already satisfied: lightgbm in c:\\users\\timofey\\anaconda3\\lib\\site-packages (3.1.1)\n",
      "Requirement already satisfied: numpy in c:\\users\\timofey\\anaconda3\\lib\\site-packages (from lightgbm) (1.18.5)\n",
      "Requirement already satisfied: wheel in c:\\users\\timofey\\anaconda3\\lib\\site-packages (from lightgbm) (0.34.2)\n",
      "Requirement already satisfied: scipy in c:\\users\\timofey\\anaconda3\\lib\\site-packages (from lightgbm) (1.5.0)\n",
      "Requirement already satisfied: scikit-learn!=0.22.0 in c:\\users\\timofey\\anaconda3\\lib\\site-packages (from lightgbm) (0.23.1)\n",
      "Requirement already satisfied: joblib>=0.11 in c:\\users\\timofey\\anaconda3\\lib\\site-packages (from scikit-learn!=0.22.0->lightgbm) (0.16.0)\n",
      "Requirement already satisfied: threadpoolctl>=2.0.0 in c:\\users\\timofey\\anaconda3\\lib\\site-packages (from scikit-learn!=0.22.0->lightgbm) (2.1.0)\n",
      "Note: you may need to restart the kernel to use updated packages.\n"
     ]
    }
   ],
   "source": [
    "pip install lightgbm"
   ]
  },
  {
   "cell_type": "code",
   "execution_count": 2,
   "metadata": {
    "id": "0Xwyx_YmwAe9"
   },
   "outputs": [],
   "source": [
    "from sklearn.feature_extraction.text import TfidfVectorizer\n",
    "from sklearn.decomposition import TruncatedSVD\n",
    "from sklearn.preprocessing import OneHotEncoder\n",
    "from sklearn.model_selection import  train_test_split\n",
    "from sklearn.decomposition import PCA\n",
    "from sklearn.preprocessing import StandardScaler\n",
    "import pymorphy2\n",
    "import re\n",
    "import nltk\n",
    "%matplotlib inline\n",
    "import matplotlib.pyplot as plt\n",
    "import pandas as pd\n",
    "import numpy as np\n",
    "from scipy.sparse import csr_matrix\n",
    "from scipy.sparse import hstack\n",
    "from sklearn.experimental import enable_hist_gradient_boosting\n",
    "from sklearn.ensemble import HistGradientBoostingClassifier\n",
    "from sklearn.ensemble import RandomForestClassifier\n",
    "from sklearn.ensemble import RandomForestRegressor\n",
    "from catboost import CatBoostRegressor\n",
    "from catboost import CatBoostClassifier\n",
    "import lightgbm as lgb\n",
    "import time"
   ]
  },
  {
   "cell_type": "code",
   "execution_count": 3,
   "metadata": {
    "id": "Iv6wmKmZwwMZ"
   },
   "outputs": [],
   "source": [
    "def getCSR_MATRIXfromNPMatrix(Matrix): # построение за numpy array\n",
    "    return csr_matrix(Matrix)\n",
    "\n",
    "def getCSR_MATRIXfromPythonMatrix(Matrix): # построение из python list\n",
    "    return csr_matrix(np.array(Matrix))\n",
    "\n",
    "def mergeCSRMatrixs(*nums): # слияние любого кол-ва матриц подряд\n",
    "    first = nums[0]\n",
    "    for i in range(1, len(nums)):\n",
    "        first = hstack([first, nums[i]])\n",
    "    return first\n",
    "\n",
    "def reduce_dimensions(train_f, test_f):\n",
    "    cnt_dim = 140\n",
    "    svd = TruncatedSVD(n_components=cnt_dim, random_state=228, algorithm='arpack')\n",
    "    train_f_pca = svd.fit_transform(train_f)\n",
    "    test_f_pca = svd.transform(test_f)\n",
    "    return train_f_pca, test_f_pca\n",
    "\n",
    "def combine_all(data, train_f, test_f):\n",
    "    train_data, test_data = data\n",
    "    train_data = pd.DataFrame(train_data)\n",
    "    test_data = pd.DataFrame(test_data)\n",
    "    other_features = ['lot_price', 'pn_lot_anon']\n",
    "    for feature in other_features:\n",
    "        train_data[feature] = train_f[feature]\n",
    "        test_data[feature] = test_f[feature]\n",
    "    scaler = StandardScaler()\n",
    "    if (False):\n",
    "        train_data[['lot_price']] = scaler.fit_transform(train_data[['lot_price']])\n",
    "        test_data[['lot_price']] = scaler.transform(test_data[['lot_price']])\n",
    "    return train_data, test_data\n",
    "\n",
    "def preprocessing_after_split(train_f, test_f, text_columns=['purchase_name', 'item_descriptions'], cat_columns=['fz', 'region_code', 'okpd2_code']):\n",
    "    train_f = train_f.fillna(0)\n",
    "    train_f = train_f[train_f.item_descriptions != 0]\n",
    "    test_f = test_f.fillna(0)\n",
    "    test_f = test_f[test_f.item_descriptions != 0]\n",
    "    train_f = train_f.reset_index()\n",
    "    test_f = test_f.reset_index()\n",
    "\n",
    "    # one-hot\n",
    "    train_f[cat_columns].fillna('None', inplace=True)\n",
    "    oh_enc = OneHotEncoder(handle_unknown='ignore')\n",
    "    train_f_oh = oh_enc.fit_transform(train_f[cat_columns])\n",
    "    test_f_oh = oh_enc.transform(test_f[cat_columns])\n",
    "    train_dataCSR = train_f_oh\n",
    "    test_dataCSR = test_f_oh\n",
    "    #tf-idf\n",
    "    if (False):\n",
    "        for name in text_columns:\n",
    "            vectorizer = TfidfVectorizer(max_df=1.0, min_df=1, max_features=666, decode_error=\n",
    "                                    'replace')\n",
    "            train_f_tfidf = vectorizer.fit_transform(train_f[name])\n",
    "            test_f_tfidf = vectorizer.transform(test_f[name])\n",
    "            # train_dataCSR = mergeCSRMatrixs(train_dataCSR, train_f_tfidf)\n",
    "            # test_dataCSR = mergeCSRMatrixs(test_dataCSR, test_f_tfidf)\n",
    "            print(train_dataCSR.shape)\n",
    "        # print(vectorizer.get_feature_names())\n",
    "    if (True):\n",
    "        train_f['mean_region_price'] = np.full(len(train_f), 0)\n",
    "        test_f['mean_region_price'] = np.full(len(test_f), 0)\n",
    "        regions = set(train_f['region_code'].values)\n",
    "        for region in regions: \n",
    "            prices = train_f[train_f['region_code'] == region]['lot_price']\n",
    "            prices = prices.apply(np.exp)\n",
    "            now_mean = np.mean(prices)\n",
    "            now_mean = np.log(now_mean)\n",
    "            train_f.loc[train_f['region_code'] == region, 'mean_region_price'] = now_mean\n",
    "            test_f.loc[test_f['region_code'] == region, 'mean_region_price'] = now_mean\n",
    "        if (False): # Worse\n",
    "            train_f['mean_region_price'] -= train_f['mean_region_price'].min()\n",
    "            train_f['mean_region_price'] /= train_f['mean_region_price'].max()\n",
    "            test_f['mean_region_price'] -= test_f['mean_region_price'].min()\n",
    "            test_f['mean_region_price'] /= test_f['mean_region_price'].max()\n",
    "        if (True):\n",
    "            train_dataCSR = mergeCSRMatrixs(train_dataCSR, getCSR_MATRIXfromNPMatrix(train_f['mean_region_price'].values.reshape(len(train_f), 1)))\n",
    "            test_dataCSR = mergeCSRMatrixs(test_dataCSR, getCSR_MATRIXfromNPMatrix(test_f['mean_region_price'].values.reshape(len(test_f), 1)))\n",
    "    if (True):\n",
    "        train_f['mean_okpd_price'] = np.full(len(train_f), 0)\n",
    "        test_f['mean_okpd_price'] = np.full(len(test_f), 0)\n",
    "        okpds = set(train_f['okpd2_code'].values)\n",
    "        for okpd in okpds: \n",
    "            prices = train_f[train_f['okpd2_code'] == okpd]['lot_price']\n",
    "            prices = prices.apply(np.exp)\n",
    "            now_mean = np.mean(prices)\n",
    "            now_mean = np.log(now_mean)\n",
    "            train_f.loc[train_f['okpd2_code'] == okpd, 'mean_okpd_price'] = now_mean\n",
    "            test_f.loc[test_f['okpd2_code'] == okpd, 'mean_okpd_price'] = now_mean\n",
    "        if (False): # Worse\n",
    "            train_f['mean_okpd_price'] -= train_f['mean_okpd_price'].min()\n",
    "            train_f['mean_okpd_price'] /= train_f['mean_okpd_price'].max()\n",
    "            test_f['mean_okpd_price'] -= test_f['mean_okpd_price'].min()\n",
    "            test_f['mean_okpd_price'] /= test_f['mean_okpd_price'].max()\n",
    "        if (True):\n",
    "            train_dataCSR = mergeCSRMatrixs(train_dataCSR, getCSR_MATRIXfromNPMatrix(train_f['mean_okpd_price'].values.reshape(len(train_f), 1)))\n",
    "            test_dataCSR = mergeCSRMatrixs(test_dataCSR, getCSR_MATRIXfromNPMatrix(test_f['mean_okpd_price'].values.reshape(len(test_f), 1)))\n",
    "\n",
    "    return combine_all(reduce_dimensions(train_dataCSR, test_dataCSR), train_f, test_f)"
   ]
  },
  {
   "cell_type": "code",
   "execution_count": 4,
   "metadata": {
    "id": "HZ9PUMyfw7RX"
   },
   "outputs": [],
   "source": [
    "train = pd.read_csv(\"C:\\\\Users\\\\Timofey\\\\Downloads\\\\data\\\\train_data_lem_transformed.csv\", sep=';')\n",
    "test = pd.read_csv(\"C:\\\\Users\\\\Timofey\\\\Downloads\\\\data\\\\test_data_lem_transformed.csv\", sep=';')\n",
    "logs = pd.read_csv(\"C:\\\\Users\\\\Timofey\\\\Downloads\\\\data\\\\train_labels.csv\", sep=';')"
   ]
  },
  {
   "cell_type": "code",
   "execution_count": 5,
   "metadata": {
    "colab": {
     "base_uri": "https://localhost:8080/",
     "height": 239
    },
    "id": "7rnVfDh-xZRU",
    "outputId": "f5e875e6-6bf0-40db-cce4-b98a9db85d0d"
   },
   "outputs": [
    {
     "name": "stderr",
     "output_type": "stream",
     "text": [
      "c:\\users\\timofey\\anaconda3\\lib\\site-packages\\pandas\\core\\frame.py:4147: SettingWithCopyWarning: \n",
      "A value is trying to be set on a copy of a slice from a DataFrame\n",
      "\n",
      "See the caveats in the documentation: https://pandas.pydata.org/pandas-docs/stable/user_guide/indexing.html#returning-a-view-versus-a-copy\n",
      "  return super().fillna(\n"
     ]
    },
    {
     "data": {
      "text/html": [
       "<div>\n",
       "<style scoped>\n",
       "    .dataframe tbody tr th:only-of-type {\n",
       "        vertical-align: middle;\n",
       "    }\n",
       "\n",
       "    .dataframe tbody tr th {\n",
       "        vertical-align: top;\n",
       "    }\n",
       "\n",
       "    .dataframe thead th {\n",
       "        text-align: right;\n",
       "    }\n",
       "</style>\n",
       "<table border=\"1\" class=\"dataframe\">\n",
       "  <thead>\n",
       "    <tr style=\"text-align: right;\">\n",
       "      <th></th>\n",
       "      <th>0</th>\n",
       "      <th>1</th>\n",
       "      <th>2</th>\n",
       "      <th>3</th>\n",
       "      <th>4</th>\n",
       "      <th>5</th>\n",
       "      <th>6</th>\n",
       "      <th>7</th>\n",
       "      <th>8</th>\n",
       "      <th>9</th>\n",
       "      <th>...</th>\n",
       "      <th>131</th>\n",
       "      <th>132</th>\n",
       "      <th>133</th>\n",
       "      <th>134</th>\n",
       "      <th>135</th>\n",
       "      <th>136</th>\n",
       "      <th>137</th>\n",
       "      <th>138</th>\n",
       "      <th>139</th>\n",
       "      <th>lot_price</th>\n",
       "    </tr>\n",
       "  </thead>\n",
       "  <tbody>\n",
       "    <tr>\n",
       "      <th>0</th>\n",
       "      <td>21.273966</td>\n",
       "      <td>-0.168336</td>\n",
       "      <td>-0.236909</td>\n",
       "      <td>-0.096481</td>\n",
       "      <td>-0.052230</td>\n",
       "      <td>-0.056621</td>\n",
       "      <td>-0.140249</td>\n",
       "      <td>-0.053548</td>\n",
       "      <td>-0.290052</td>\n",
       "      <td>0.697916</td>\n",
       "      <td>...</td>\n",
       "      <td>0.007405</td>\n",
       "      <td>0.007752</td>\n",
       "      <td>0.013068</td>\n",
       "      <td>-0.014440</td>\n",
       "      <td>-0.005070</td>\n",
       "      <td>0.025585</td>\n",
       "      <td>0.009646</td>\n",
       "      <td>-0.012025</td>\n",
       "      <td>-0.030783</td>\n",
       "      <td>11.723996</td>\n",
       "    </tr>\n",
       "    <tr>\n",
       "      <th>1</th>\n",
       "      <td>20.840299</td>\n",
       "      <td>0.271440</td>\n",
       "      <td>-0.234627</td>\n",
       "      <td>-0.138281</td>\n",
       "      <td>-0.033076</td>\n",
       "      <td>-0.060267</td>\n",
       "      <td>-0.168655</td>\n",
       "      <td>-0.050029</td>\n",
       "      <td>-0.305296</td>\n",
       "      <td>0.693035</td>\n",
       "      <td>...</td>\n",
       "      <td>-0.046984</td>\n",
       "      <td>-0.023759</td>\n",
       "      <td>-0.058013</td>\n",
       "      <td>-0.018313</td>\n",
       "      <td>-0.004027</td>\n",
       "      <td>-0.034842</td>\n",
       "      <td>-0.009740</td>\n",
       "      <td>-0.013941</td>\n",
       "      <td>0.028972</td>\n",
       "      <td>11.877569</td>\n",
       "    </tr>\n",
       "  </tbody>\n",
       "</table>\n",
       "<p>2 rows × 141 columns</p>\n",
       "</div>"
      ],
      "text/plain": [
       "           0         1         2         3         4         5         6  \\\n",
       "0  21.273966 -0.168336 -0.236909 -0.096481 -0.052230 -0.056621 -0.140249   \n",
       "1  20.840299  0.271440 -0.234627 -0.138281 -0.033076 -0.060267 -0.168655   \n",
       "\n",
       "          7         8         9  ...       131       132       133       134  \\\n",
       "0 -0.053548 -0.290052  0.697916  ...  0.007405  0.007752  0.013068 -0.014440   \n",
       "1 -0.050029 -0.305296  0.693035  ... -0.046984 -0.023759 -0.058013 -0.018313   \n",
       "\n",
       "        135       136       137       138       139  lot_price  \n",
       "0 -0.005070  0.025585  0.009646 -0.012025 -0.030783  11.723996  \n",
       "1 -0.004027 -0.034842 -0.009740 -0.013941  0.028972  11.877569  \n",
       "\n",
       "[2 rows x 141 columns]"
      ]
     },
     "execution_count": 5,
     "metadata": {},
     "output_type": "execute_result"
    }
   ],
   "source": [
    "train, test = preprocessing_after_split(train, test)\n",
    "X_train = train.loc[:, train.columns[:-1]]\n",
    "X_test = test.loc[:, test.columns[:-1]]\n",
    "participants = list(set(logs['participant_inn_kpp_anon']))\n",
    "X_train.head(2)"
   ]
  },
  {
   "cell_type": "code",
   "execution_count": 19,
   "metadata": {
    "id": "iVuOXmopyIlW"
   },
   "outputs": [],
   "source": [
    "def recommendation_system(X_train, X_test, train, test, participants, left_bound, right_bound):\n",
    "    start = time.time()\n",
    "    cnt_good = 0\n",
    "    cnt_total = 0\n",
    "    train_pn = train['pn_lot_anon'].values\n",
    "    test_pn = test['pn_lot_anon'].values\n",
    "    res = pd.DataFrame(columns=['inn_kpp', 'actual_recommended_pn_lot', 'similarity_score'])\n",
    "    for p_id in range(left_bound, right_bound + 1):\n",
    "        if p_id % 10 == 0:\n",
    "            print(p_id)\n",
    "        y_train_ = np.full(len(X_train), 0)\n",
    "        current_p = participants[p_id]\n",
    "        parts_inn = logs[logs['participant_inn_kpp_anon'] == current_p]\n",
    "        p_numb = list(set(parts_inn['pn_lot_anon']))\n",
    "        for i in range(len(y_train_)):\n",
    "            if train_pn[i] in p_numb:\n",
    "                y_train_[i] = 1\n",
    "                if sum(parts_inn[logs['pn_lot_anon'] == train_pn[i]]['is_winner']) == 1:\n",
    "                    y_train_[i] = 2\n",
    "        if(sum(y_train_) == 0):\n",
    "            continue\n",
    "        model = lgb.LGBMRegressor(n_estimators=77, max_depth=7, num_leaves=83)\n",
    "        model.fit(X_train, y_train_)\n",
    "        y_pred = model.predict(X_test)\n",
    "        scores = pd.DataFrame(columns=['pred', 'lot'])\n",
    "        scores['pred'] = y_pred\n",
    "        scores['lot'] = test['pn_lot_anon']\n",
    "        scores = scores.sort_values(by='pred', ascending=False)\n",
    "        for i in range(35):\n",
    "            res = res.append({'inn_kpp' : current_p, 'actual_recommended_pn_lot' : scores.loc[scores.index[i], 'lot'], 'similarity_score' : scores.loc[scores.index[i], 'pred']}, ignore_index=True)\n",
    "    print(time.time() - start)\n",
    "    return res"
   ]
  },
  {
   "cell_type": "code",
   "execution_count": 7,
   "metadata": {
    "colab": {
     "base_uri": "https://localhost:8080/"
    },
    "id": "k1oRKRT91EqX",
    "outputId": "80648c7a-68de-40c1-b3e9-c89b71107b6c"
   },
   "outputs": [
    {
     "name": "stdout",
     "output_type": "stream",
     "text": [
      "0\n"
     ]
    },
    {
     "name": "stderr",
     "output_type": "stream",
     "text": [
      "<ipython-input-6-4f6d7c19796a>:18: UserWarning: Boolean Series key will be reindexed to match DataFrame index.\n",
      "  if sum(parts_inn[logs['pn_lot_anon'] == train_pn[i]]['is_winner']) == 1:\n"
     ]
    },
    {
     "name": "stdout",
     "output_type": "stream",
     "text": [
      "100\n",
      "200\n",
      "300\n",
      "400\n",
      "500\n",
      "600\n",
      "700\n",
      "800\n",
      "900\n",
      "1000\n",
      "1100\n",
      "1200\n",
      "1300\n",
      "1400\n",
      "1500\n",
      "1600\n",
      "1700\n",
      "1800\n",
      "1900\n",
      "2000\n",
      "2100\n",
      "2200\n",
      "2300\n",
      "2400\n",
      "2500\n",
      "2600\n",
      "2700\n",
      "2800\n",
      "2900\n",
      "27088.647139787674\n"
     ]
    }
   ],
   "source": [
    "result = recommendation_system(X_train=X_train, X_test=X_test, train=train, test=test, participants=participants, left_bound=0, right_bound=2999)"
   ]
  },
  {
   "cell_type": "code",
   "execution_count": 8,
   "metadata": {
    "id": "nblz4g1y6lpF"
   },
   "outputs": [],
   "source": [
    "result.to_csv('score3000.csv', sep=';', index=False)"
   ]
  },
  {
   "cell_type": "code",
   "execution_count": 9,
   "metadata": {},
   "outputs": [
    {
     "name": "stdout",
     "output_type": "stream",
     "text": [
      "3000\n"
     ]
    },
    {
     "name": "stderr",
     "output_type": "stream",
     "text": [
      "<ipython-input-6-4f6d7c19796a>:18: UserWarning: Boolean Series key will be reindexed to match DataFrame index.\n",
      "  if sum(parts_inn[logs['pn_lot_anon'] == train_pn[i]]['is_winner']) == 1:\n"
     ]
    },
    {
     "name": "stdout",
     "output_type": "stream",
     "text": [
      "3100\n",
      "3200\n",
      "3300\n",
      "3400\n",
      "3500\n",
      "3600\n",
      "3700\n",
      "3800\n",
      "3900\n",
      "4000\n",
      "4100\n",
      "4200\n",
      "4300\n",
      "4400\n",
      "13608.086286306381\n"
     ]
    }
   ],
   "source": [
    "result = recommendation_system(X_train=X_train, X_test=X_test, train=train, test=test, participants=participants, left_bound=3000, right_bound=4499)"
   ]
  },
  {
   "cell_type": "code",
   "execution_count": 10,
   "metadata": {},
   "outputs": [],
   "source": [
    "result.to_csv('score4500.csv', sep=';', index=False)"
   ]
  },
  {
   "cell_type": "code",
   "execution_count": 14,
   "metadata": {},
   "outputs": [
    {
     "name": "stdout",
     "output_type": "stream",
     "text": [
      "16400\n"
     ]
    },
    {
     "name": "stderr",
     "output_type": "stream",
     "text": [
      "<ipython-input-6-4f6d7c19796a>:18: UserWarning: Boolean Series key will be reindexed to match DataFrame index.\n",
      "  if sum(parts_inn[logs['pn_lot_anon'] == train_pn[i]]['is_winner']) == 1:\n"
     ]
    },
    {
     "ename": "IndexError",
     "evalue": "list index out of range",
     "output_type": "error",
     "traceback": [
      "\u001b[1;31m---------------------------------------------------------------------------\u001b[0m",
      "\u001b[1;31mIndexError\u001b[0m                                Traceback (most recent call last)",
      "\u001b[1;32m<ipython-input-14-380203b046ce>\u001b[0m in \u001b[0;36m<module>\u001b[1;34m\u001b[0m\n\u001b[1;32m----> 1\u001b[1;33m \u001b[0mresult\u001b[0m \u001b[1;33m=\u001b[0m \u001b[0mrecommendation_system\u001b[0m\u001b[1;33m(\u001b[0m\u001b[0mX_train\u001b[0m\u001b[1;33m=\u001b[0m\u001b[0mX_train\u001b[0m\u001b[1;33m,\u001b[0m \u001b[0mX_test\u001b[0m\u001b[1;33m=\u001b[0m\u001b[0mX_test\u001b[0m\u001b[1;33m,\u001b[0m \u001b[0mtrain\u001b[0m\u001b[1;33m=\u001b[0m\u001b[0mtrain\u001b[0m\u001b[1;33m,\u001b[0m \u001b[0mtest\u001b[0m\u001b[1;33m=\u001b[0m\u001b[0mtest\u001b[0m\u001b[1;33m,\u001b[0m \u001b[0mparticipants\u001b[0m\u001b[1;33m=\u001b[0m\u001b[0mparticipants\u001b[0m\u001b[1;33m,\u001b[0m \u001b[0mleft_bound\u001b[0m\u001b[1;33m=\u001b[0m\u001b[1;36m16400\u001b[0m\u001b[1;33m,\u001b[0m \u001b[0mright_bound\u001b[0m\u001b[1;33m=\u001b[0m\u001b[0mlen\u001b[0m\u001b[1;33m(\u001b[0m\u001b[0mparticipants\u001b[0m\u001b[1;33m)\u001b[0m\u001b[1;33m)\u001b[0m\u001b[1;33m\u001b[0m\u001b[1;33m\u001b[0m\u001b[0m\n\u001b[0m",
      "\u001b[1;32m<ipython-input-6-4f6d7c19796a>\u001b[0m in \u001b[0;36mrecommendation_system\u001b[1;34m(X_train, X_test, train, test, participants, left_bound, right_bound)\u001b[0m\n\u001b[0;32m     10\u001b[0m             \u001b[0mprint\u001b[0m\u001b[1;33m(\u001b[0m\u001b[0mp_id\u001b[0m\u001b[1;33m)\u001b[0m\u001b[1;33m\u001b[0m\u001b[1;33m\u001b[0m\u001b[0m\n\u001b[0;32m     11\u001b[0m         \u001b[0my_train_\u001b[0m \u001b[1;33m=\u001b[0m \u001b[0mnp\u001b[0m\u001b[1;33m.\u001b[0m\u001b[0mfull\u001b[0m\u001b[1;33m(\u001b[0m\u001b[0mlen\u001b[0m\u001b[1;33m(\u001b[0m\u001b[0mX_train\u001b[0m\u001b[1;33m)\u001b[0m\u001b[1;33m,\u001b[0m \u001b[1;36m0\u001b[0m\u001b[1;33m)\u001b[0m\u001b[1;33m\u001b[0m\u001b[1;33m\u001b[0m\u001b[0m\n\u001b[1;32m---> 12\u001b[1;33m         \u001b[0mcurrent_p\u001b[0m \u001b[1;33m=\u001b[0m \u001b[0mparticipants\u001b[0m\u001b[1;33m[\u001b[0m\u001b[0mp_id\u001b[0m\u001b[1;33m]\u001b[0m\u001b[1;33m\u001b[0m\u001b[1;33m\u001b[0m\u001b[0m\n\u001b[0m\u001b[0;32m     13\u001b[0m         \u001b[0mparts_inn\u001b[0m \u001b[1;33m=\u001b[0m \u001b[0mlogs\u001b[0m\u001b[1;33m[\u001b[0m\u001b[0mlogs\u001b[0m\u001b[1;33m[\u001b[0m\u001b[1;34m'participant_inn_kpp_anon'\u001b[0m\u001b[1;33m]\u001b[0m \u001b[1;33m==\u001b[0m \u001b[0mcurrent_p\u001b[0m\u001b[1;33m]\u001b[0m\u001b[1;33m\u001b[0m\u001b[1;33m\u001b[0m\u001b[0m\n\u001b[0;32m     14\u001b[0m         \u001b[0mp_numb\u001b[0m \u001b[1;33m=\u001b[0m \u001b[0mlist\u001b[0m\u001b[1;33m(\u001b[0m\u001b[0mset\u001b[0m\u001b[1;33m(\u001b[0m\u001b[0mparts_inn\u001b[0m\u001b[1;33m[\u001b[0m\u001b[1;34m'pn_lot_anon'\u001b[0m\u001b[1;33m]\u001b[0m\u001b[1;33m)\u001b[0m\u001b[1;33m)\u001b[0m\u001b[1;33m\u001b[0m\u001b[1;33m\u001b[0m\u001b[0m\n",
      "\u001b[1;31mIndexError\u001b[0m: list index out of range"
     ]
    }
   ],
   "source": [
    "result = recommendation_system(X_train=X_train, X_test=X_test, train=train, test=test, participants=participants, left_bound=16400, right_bound=len(participants))"
   ]
  },
  {
   "cell_type": "code",
   "execution_count": 15,
   "metadata": {},
   "outputs": [
    {
     "data": {
      "text/html": [
       "<div>\n",
       "<style scoped>\n",
       "    .dataframe tbody tr th:only-of-type {\n",
       "        vertical-align: middle;\n",
       "    }\n",
       "\n",
       "    .dataframe tbody tr th {\n",
       "        vertical-align: top;\n",
       "    }\n",
       "\n",
       "    .dataframe thead th {\n",
       "        text-align: right;\n",
       "    }\n",
       "</style>\n",
       "<table border=\"1\" class=\"dataframe\">\n",
       "  <thead>\n",
       "    <tr style=\"text-align: right;\">\n",
       "      <th></th>\n",
       "      <th>inn_kpp</th>\n",
       "      <th>actual_recommended_pn_lot</th>\n",
       "      <th>similarity_score</th>\n",
       "    </tr>\n",
       "  </thead>\n",
       "  <tbody>\n",
       "    <tr>\n",
       "      <th>0</th>\n",
       "      <td>inn_kpp_4130158</td>\n",
       "      <td>pn_lot_9694797</td>\n",
       "      <td>0.395861</td>\n",
       "    </tr>\n",
       "    <tr>\n",
       "      <th>1</th>\n",
       "      <td>inn_kpp_4130158</td>\n",
       "      <td>pn_lot_2980427</td>\n",
       "      <td>0.369230</td>\n",
       "    </tr>\n",
       "    <tr>\n",
       "      <th>2</th>\n",
       "      <td>inn_kpp_4130158</td>\n",
       "      <td>pn_lot_3401680</td>\n",
       "      <td>0.369230</td>\n",
       "    </tr>\n",
       "    <tr>\n",
       "      <th>3</th>\n",
       "      <td>inn_kpp_4130158</td>\n",
       "      <td>pn_lot_1182013</td>\n",
       "      <td>0.274128</td>\n",
       "    </tr>\n",
       "    <tr>\n",
       "      <th>4</th>\n",
       "      <td>inn_kpp_4130158</td>\n",
       "      <td>pn_lot_573704</td>\n",
       "      <td>0.249243</td>\n",
       "    </tr>\n",
       "    <tr>\n",
       "      <th>...</th>\n",
       "      <td>...</td>\n",
       "      <td>...</td>\n",
       "      <td>...</td>\n",
       "    </tr>\n",
       "    <tr>\n",
       "      <th>52460</th>\n",
       "      <td>inn_kpp_7863391</td>\n",
       "      <td>pn_lot_4792795</td>\n",
       "      <td>0.067706</td>\n",
       "    </tr>\n",
       "    <tr>\n",
       "      <th>52461</th>\n",
       "      <td>inn_kpp_7863391</td>\n",
       "      <td>pn_lot_4300072</td>\n",
       "      <td>0.060721</td>\n",
       "    </tr>\n",
       "    <tr>\n",
       "      <th>52462</th>\n",
       "      <td>inn_kpp_7863391</td>\n",
       "      <td>pn_lot_1743838</td>\n",
       "      <td>0.060710</td>\n",
       "    </tr>\n",
       "    <tr>\n",
       "      <th>52463</th>\n",
       "      <td>inn_kpp_7863391</td>\n",
       "      <td>pn_lot_8859414</td>\n",
       "      <td>0.057779</td>\n",
       "    </tr>\n",
       "    <tr>\n",
       "      <th>52464</th>\n",
       "      <td>inn_kpp_7863391</td>\n",
       "      <td>pn_lot_113954</td>\n",
       "      <td>0.057003</td>\n",
       "    </tr>\n",
       "  </tbody>\n",
       "</table>\n",
       "<p>52465 rows × 3 columns</p>\n",
       "</div>"
      ],
      "text/plain": [
       "               inn_kpp actual_recommended_pn_lot  similarity_score\n",
       "0      inn_kpp_4130158            pn_lot_9694797          0.395861\n",
       "1      inn_kpp_4130158            pn_lot_2980427          0.369230\n",
       "2      inn_kpp_4130158            pn_lot_3401680          0.369230\n",
       "3      inn_kpp_4130158            pn_lot_1182013          0.274128\n",
       "4      inn_kpp_4130158             pn_lot_573704          0.249243\n",
       "...                ...                       ...               ...\n",
       "52460  inn_kpp_7863391            pn_lot_4792795          0.067706\n",
       "52461  inn_kpp_7863391            pn_lot_4300072          0.060721\n",
       "52462  inn_kpp_7863391            pn_lot_1743838          0.060710\n",
       "52463  inn_kpp_7863391            pn_lot_8859414          0.057779\n",
       "52464  inn_kpp_7863391             pn_lot_113954          0.057003\n",
       "\n",
       "[52465 rows x 3 columns]"
      ]
     },
     "execution_count": 15,
     "metadata": {},
     "output_type": "execute_result"
    }
   ],
   "source": [
    "result"
   ]
  },
  {
   "cell_type": "code",
   "execution_count": 16,
   "metadata": {},
   "outputs": [],
   "source": [
    "result.to_csv('score16500.csv', sep=';', index=False)"
   ]
  },
  {
   "cell_type": "code",
   "execution_count": 20,
   "metadata": {},
   "outputs": [
    {
     "name": "stdout",
     "output_type": "stream",
     "text": [
      "11500\n"
     ]
    },
    {
     "name": "stderr",
     "output_type": "stream",
     "text": [
      "<ipython-input-19-af010faa406b>:18: UserWarning: Boolean Series key will be reindexed to match DataFrame index.\n",
      "  if sum(parts_inn[logs['pn_lot_anon'] == train_pn[i]]['is_winner']) == 1:\n"
     ]
    },
    {
     "name": "stdout",
     "output_type": "stream",
     "text": [
      "11510\n",
      "11520\n",
      "11530\n",
      "11540\n",
      "11550\n",
      "11560\n",
      "11570\n",
      "11580\n",
      "11590\n",
      "11600\n",
      "11610\n",
      "11620\n",
      "11630\n",
      "11640\n",
      "11650\n",
      "11660\n",
      "11670\n",
      "11680\n",
      "11690\n",
      "2014.7503905296326\n"
     ]
    }
   ],
   "source": [
    "result = recommendation_system(X_train=X_train, X_test=X_test, train=train, test=test, participants=participants, left_bound=11500, right_bound=11699)"
   ]
  },
  {
   "cell_type": "code",
   "execution_count": 21,
   "metadata": {},
   "outputs": [],
   "source": [
    "result.to_csv('score11700.csv', sep=';', index=False)"
   ]
  }
 ],
 "metadata": {
  "colab": {
   "collapsed_sections": [],
   "name": "Model_recommend_Tim_zak.ipynb",
   "provenance": []
  },
  "kernelspec": {
   "display_name": "Python 3",
   "language": "python",
   "name": "python3"
  },
  "language_info": {
   "codemirror_mode": {
    "name": "ipython",
    "version": 3
   },
   "file_extension": ".py",
   "mimetype": "text/x-python",
   "name": "python",
   "nbconvert_exporter": "python",
   "pygments_lexer": "ipython3",
   "version": "3.8.3"
  }
 },
 "nbformat": 4,
 "nbformat_minor": 1
}
