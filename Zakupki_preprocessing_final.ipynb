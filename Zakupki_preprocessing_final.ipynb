{
 "cells": [
  {
   "cell_type": "markdown",
   "metadata": {
    "id": "6CfsorksyTL_"
   },
   "source": [
    "# Key points:\n",
    "\n",
    "\n",
    "*   Удалили строки с lot_price == 0\n",
    "*   lot_price = log(lot_price)\n",
    "*   Удаляем почти полностью пустые лоты - их там очень мало\n",
    "*   Удалим lot_name (много пропусков), okpd2_names (useless), что-то из add_code/add_code_names (useless)\n",
    "*   time -> pandas.to_datetime\n",
    "*   Удалили мусорные фичи\n",
    "*   okpd2_code = additional_code (если okpd2_code == NaN)\n",
    "\n"
   ]
  },
  {
   "cell_type": "markdown",
   "metadata": {
    "id": "ziw2OVExFoUG"
   },
   "source": [
    "# Analysis + Preprocessing"
   ]
  },
  {
   "cell_type": "code",
   "execution_count": null,
   "metadata": {
    "colab": {
     "base_uri": "https://localhost:8080/"
    },
    "id": "dvB8jfXJdfHm",
    "outputId": "f964af08-e16c-4e5f-9597-21d44d745b1e"
   },
   "outputs": [
    {
     "name": "stdout",
     "output_type": "stream",
     "text": [
      "Drive already mounted at /content/drive; to attempt to forcibly remount, call drive.mount(\"/content/drive\", force_remount=True).\n"
     ]
    }
   ],
   "source": [
    "from google.colab import drive\n",
    "drive.mount(\"/content/drive\")"
   ]
  },
  {
   "cell_type": "code",
   "execution_count": null,
   "metadata": {
    "id": "8i_Gj0wZfZB7"
   },
   "outputs": [],
   "source": [
    "%matplotlib inline\n",
    "import matplotlib.pyplot as plt\n",
    "import pandas as pd\n",
    "import numpy as np\n"
   ]
  },
  {
   "cell_type": "code",
   "execution_count": 77,
   "metadata": {
    "colab": {
     "base_uri": "https://localhost:8080/",
     "height": 531
    },
    "id": "d4HVvxPDf36e",
    "outputId": "c0485b1f-c5b8-4051-bed5-52a7977a94b0"
   },
   "outputs": [
    {
     "name": "stderr",
     "output_type": "stream",
     "text": [
      "c:\\users\\timofey\\anaconda3\\lib\\site-packages\\IPython\\core\\interactiveshell.py:3155: DtypeWarning: Columns (9) have mixed types. Specify dtype option on import or set low_memory=False.\n",
      "  from urllib import urlopen\n"
     ]
    },
    {
     "data": {
      "text/html": [
       "<div>\n",
       "<style scoped>\n",
       "    .dataframe tbody tr th:only-of-type {\n",
       "        vertical-align: middle;\n",
       "    }\n",
       "\n",
       "    .dataframe tbody tr th {\n",
       "        vertical-align: top;\n",
       "    }\n",
       "\n",
       "    .dataframe thead th {\n",
       "        text-align: right;\n",
       "    }\n",
       "</style>\n",
       "<table border=\"1\" class=\"dataframe\">\n",
       "  <thead>\n",
       "    <tr style=\"text-align: right;\">\n",
       "      <th></th>\n",
       "      <th>pn_lot_anon</th>\n",
       "      <th>fz</th>\n",
       "      <th>region_code</th>\n",
       "      <th>min_publish_date</th>\n",
       "      <th>purchase_name</th>\n",
       "      <th>lot_name</th>\n",
       "      <th>lot_price</th>\n",
       "      <th>okpd2_code</th>\n",
       "      <th>okpd2_names</th>\n",
       "      <th>additional_code</th>\n",
       "      <th>additional_code_names</th>\n",
       "      <th>item_descriptions</th>\n",
       "    </tr>\n",
       "  </thead>\n",
       "  <tbody>\n",
       "    <tr>\n",
       "      <th>0</th>\n",
       "      <td>pn_lot_302983</td>\n",
       "      <td>44fz</td>\n",
       "      <td>86</td>\n",
       "      <td>2020-02-27</td>\n",
       "      <td>Выполнение работ по огнезащитной обработке дер...</td>\n",
       "      <td>NaN</td>\n",
       "      <td>480000.0</td>\n",
       "      <td>43.2</td>\n",
       "      <td>Работы по противопожарной защите</td>\n",
       "      <td>NaN</td>\n",
       "      <td>NaN</td>\n",
       "      <td>Огнезащитная обработка деревянных конструкций ...</td>\n",
       "    </tr>\n",
       "    <tr>\n",
       "      <th>1</th>\n",
       "      <td>pn_lot_7912463</td>\n",
       "      <td>44fz</td>\n",
       "      <td>58</td>\n",
       "      <td>2019-05-27</td>\n",
       "      <td>Поставка светодиодных светильников для сетей у...</td>\n",
       "      <td>NaN</td>\n",
       "      <td>202860.0</td>\n",
       "      <td>27.4</td>\n",
       "      <td>Светильники и устройства осветительные прочие,...</td>\n",
       "      <td>NaN</td>\n",
       "      <td>NaN</td>\n",
       "      <td>Светильник</td>\n",
       "    </tr>\n",
       "    <tr>\n",
       "      <th>2</th>\n",
       "      <td>pn_lot_9971596</td>\n",
       "      <td>223fz</td>\n",
       "      <td>33</td>\n",
       "      <td>2019-02-25</td>\n",
       "      <td>Поставка дизельного топлива ЕВРО сорт Е вид III</td>\n",
       "      <td>Поставка дизельного топлива ЕВРО сорт Е вид III</td>\n",
       "      <td>1220780.0</td>\n",
       "      <td>19.2</td>\n",
       "      <td>Нефтепродукты</td>\n",
       "      <td>19.2</td>\n",
       "      <td>Производство нефтепродуктов</td>\n",
       "      <td>NaN</td>\n",
       "    </tr>\n",
       "    <tr>\n",
       "      <th>3</th>\n",
       "      <td>pn_lot_5898610</td>\n",
       "      <td>44fz</td>\n",
       "      <td>27</td>\n",
       "      <td>2019-10-25</td>\n",
       "      <td>Услуги (работы) в области защиты информации Ат...</td>\n",
       "      <td>NaN</td>\n",
       "      <td>200000.0</td>\n",
       "      <td>74.9</td>\n",
       "      <td>Услуги (работы) в области защиты информации</td>\n",
       "      <td>NaN</td>\n",
       "      <td>NaN</td>\n",
       "      <td>Услуги (работы) в области защиты информации</td>\n",
       "    </tr>\n",
       "    <tr>\n",
       "      <th>4</th>\n",
       "      <td>pn_lot_2843527</td>\n",
       "      <td>44fz</td>\n",
       "      <td>24</td>\n",
       "      <td>2020-03-25</td>\n",
       "      <td>Поставка изделий медицинского назначения (вата...</td>\n",
       "      <td>NaN</td>\n",
       "      <td>53640.0</td>\n",
       "      <td>NaN</td>\n",
       "      <td>NaN</td>\n",
       "      <td>21.2</td>\n",
       "      <td>Рулон ватный, нестерильный</td>\n",
       "      <td>Рулон ватный, нестерильный</td>\n",
       "    </tr>\n",
       "  </tbody>\n",
       "</table>\n",
       "</div>"
      ],
      "text/plain": [
       "      pn_lot_anon     fz  region_code min_publish_date  \\\n",
       "0   pn_lot_302983   44fz           86       2020-02-27   \n",
       "1  pn_lot_7912463   44fz           58       2019-05-27   \n",
       "2  pn_lot_9971596  223fz           33       2019-02-25   \n",
       "3  pn_lot_5898610   44fz           27       2019-10-25   \n",
       "4  pn_lot_2843527   44fz           24       2020-03-25   \n",
       "\n",
       "                                       purchase_name  \\\n",
       "0  Выполнение работ по огнезащитной обработке дер...   \n",
       "1  Поставка светодиодных светильников для сетей у...   \n",
       "2    Поставка дизельного топлива ЕВРО сорт Е вид III   \n",
       "3  Услуги (работы) в области защиты информации Ат...   \n",
       "4  Поставка изделий медицинского назначения (вата...   \n",
       "\n",
       "                                          lot_name  lot_price okpd2_code  \\\n",
       "0                                              NaN   480000.0       43.2   \n",
       "1                                              NaN   202860.0       27.4   \n",
       "2  Поставка дизельного топлива ЕВРО сорт Е вид III  1220780.0       19.2   \n",
       "3                                              NaN   200000.0       74.9   \n",
       "4                                              NaN    53640.0        NaN   \n",
       "\n",
       "                                         okpd2_names additional_code  \\\n",
       "0                   Работы по противопожарной защите             NaN   \n",
       "1  Светильники и устройства осветительные прочие,...             NaN   \n",
       "2                                      Нефтепродукты            19.2   \n",
       "3        Услуги (работы) в области защиты информации             NaN   \n",
       "4                                                NaN            21.2   \n",
       "\n",
       "         additional_code_names  \\\n",
       "0                          NaN   \n",
       "1                          NaN   \n",
       "2  Производство нефтепродуктов   \n",
       "3                          NaN   \n",
       "4   Рулон ватный, нестерильный   \n",
       "\n",
       "                                   item_descriptions  \n",
       "0  Огнезащитная обработка деревянных конструкций ...  \n",
       "1                                        Светильник   \n",
       "2                                                NaN  \n",
       "3       Услуги (работы) в области защиты информации   \n",
       "4                        Рулон ватный, нестерильный   "
      ]
     },
     "execution_count": 77,
     "metadata": {
      "tags": []
     },
     "output_type": "execute_result"
    }
   ],
   "source": [
    "train_data = pd.read_csv(\"C:\\\\Users\\\\Timofey\\\\Downloads\\\\data\\\\train_comp.csv\", sep=';')\n",
    "train_data.head()"
   ]
  },
  {
   "cell_type": "code",
   "execution_count": null,
   "metadata": {
    "colab": {
     "base_uri": "https://localhost:8080/"
    },
    "id": "qD7g9SHGhX-3",
    "outputId": "9e4198b5-919c-483d-d88e-83f9c3b5dc92"
   },
   "outputs": [
    {
     "data": {
      "text/plain": [
       "array([  782,    21,     1,     1,     1,     2,     3,    14,     9,\n",
       "          19,    14,    14,    49,   105,   303,   726,  1655,  4035,\n",
       "        8327, 15801, 26567, 40749, 58264, 79029, 84710, 88138, 95887,\n",
       "       69724, 59861, 45211, 35415, 22246, 16746,  8951,  5900,  4209,\n",
       "        1984,  1318,   865,   515,   333,   214,    86,    47,    22,\n",
       "          12,     8,     5,     1,     2])"
      ]
     },
     "execution_count": 57,
     "metadata": {
      "tags": []
     },
     "output_type": "execute_result"
    }
   ],
   "source": [
    "xs = list(set(np.around(2 * np.log(train_data['lot_price'].dropna() + 1))))\n",
    "ys = np.array([sum(np.around(2 * np.log(train_data['lot_price'].dropna() + 1)) == i) for i in xs])\n",
    "ys"
   ]
  },
  {
   "cell_type": "code",
   "execution_count": null,
   "metadata": {
    "colab": {
     "base_uri": "https://localhost:8080/",
     "height": 285
    },
    "id": "zgpoESqJqyCW",
    "outputId": "c5355d83-dddc-47a2-b929-d53f6d91d45b"
   },
   "outputs": [
    {
     "data": {
      "text/plain": [
       "[<matplotlib.lines.Line2D at 0x7f64f3c62dd8>]"
      ]
     },
     "execution_count": 58,
     "metadata": {
      "tags": []
     },
     "output_type": "execute_result"
    },
    {
     "data": {
      "image/png": "[encoded data removed]",
      "text/plain": [
       "<Figure size 432x288 with 1 Axes>"
      ]
     },
     "metadata": {
      "needs_background": "light",
      "tags": []
     },
     "output_type": "display_data"
    }
   ],
   "source": [
    "plt.plot(xs, ys) # logged"
   ]
  },
  {
   "cell_type": "code",
   "execution_count": null,
   "metadata": {
    "colab": {
     "base_uri": "https://localhost:8080/"
    },
    "id": "-zlYgYAFrl8F",
    "outputId": "6258dbb0-7f75-4b98-c069-d9cbc93d9fb6"
   },
   "outputs": [
    {
     "data": {
      "text/plain": [
       "array([485418, 145746,  46926,  27373,  13317,  10166,   6496,   5475,\n",
       "         4230,   3685,   3794,   1955,   1696,   1374,   1330,   1351,\n",
       "          992,    941,    848,    738,    891,    548,    520,    527,\n",
       "          426,    521,    370,    344,    362,    343,    422,    263,\n",
       "          282,    285,    238,    278,    219,    225,    218,    186,\n",
       "          267,    168,    172,    174,    154,    197,    171,    156,\n",
       "          170,    215,    269,     82,     90,     81,     88,     88,\n",
       "           89,     65,     68,     71,     86,     49,     60,     62,\n",
       "           66,     69,     62,     46,     40,     55,     69,     55,\n",
       "           47,     53,     47,     48,     57,     46,     47,     40,\n",
       "           62,     34,     43,     46,     40,     48,     25,     41,\n",
       "           38,     28,     45,     31,     31,     33,     36,     28,\n",
       "           31,     30,     42,     38,     49,     23,     32,     22,\n",
       "           17,     26,     27,     22,     29,     31,     24,     13,\n",
       "           21,     17,     17,     22,     19,     11,     14,     20,\n",
       "           22,     20,      8,     13,     22,     21,     12,     14,\n",
       "           12,     12,     30,     16,     17,     15,     13,     14,\n",
       "           21,     19,     18,     17,     14,     12,     10,     12,\n",
       "           18,     12,     13,      9,     13,     20,     28,      8,\n",
       "           10,     14,     11,     15,     10,     12,      6,     20,\n",
       "           20,     11,     12,     13,      9,     11,     14,     13,\n",
       "           11,     13,      9,     12,      9,      4,     10,     15,\n",
       "            8,      9,      6,     10,     10,     13,      6,      3,\n",
       "            9,      6,      6,      1,      7,      6,     10,     12,\n",
       "           10,      5,      7,      9,      4,      8,     10,     12,\n",
       "           17,      7,      5,      5,      5,      7,      9,      5,\n",
       "            5,      6,     12,      7,     14,      6,      7,      6,\n",
       "            5,      8,      9,      6,      7,     10,      4,      7,\n",
       "            4,      6,      7,      4,      9,      8,     10,      4,\n",
       "            9,      5,      5,      4,      6,      3,      4,      7,\n",
       "            8,      2,      4,      2,      5,      1,      5,      2,\n",
       "            1,      7,     10,      1,      4,      4,      6,      6,\n",
       "            2,      4,      4,      5,      4,      6,      6,      7,\n",
       "            8,      1,      4,      3,      2,      3,      9,      4,\n",
       "            1,      6,      3,      6,      2,      1,      3,      2,\n",
       "            5,      4,      5,      6,      4,      7,      8,      4,\n",
       "            3,      4,      4,      5,      4,      4,      6,      6,\n",
       "            3,      1,      3,      5,      9,      5,      3,      4,\n",
       "            1,      6,      3,      7,      3,      7,      5,      3,\n",
       "            1,      1,      4,      5,      2,      9,      3,      2,\n",
       "            2,      1,      3,      3,      1,      3,      3,      2,\n",
       "            1,      2,      5,      3,      4,      6,      3,      3,\n",
       "            1,      5,      2,      3,      4,      1,      2,      1,\n",
       "            5,      4,      4,      2,      1,      1,      1,      2,\n",
       "            1,      1,      5,      2,      5,      1,      1,      3,\n",
       "            3,      4,      1,      1,      1,      1,      1,      1,\n",
       "            1,      2,      3,      1,      1,      1,      3,      1,\n",
       "            5,      2,      2,      1,      2,      1,      1,      3,\n",
       "            1,      1,      3,      3,      1,      1,      3,      2,\n",
       "            7,      8,      9,      1,      1,      1,      3,      1,\n",
       "            1,      2,      1,      4,      2,      2,      1,      6,\n",
       "            2,      1,      4,      3,      2,      1,      1,      1,\n",
       "            1,      3,      2,      3,      3,      5,      3,      1,\n",
       "            2,      2,      1,      1,      1,      2,      1,      1,\n",
       "            1,      1,      5,      1,      2,      1,      1,      2,\n",
       "            2,      2,      4,      1,      2,      1,      1,      2,\n",
       "            1,      3,      4,      1,      1,      3,      2,      1,\n",
       "            1,      2,      6,      2,      2,      3,      1,      1,\n",
       "            1,      6,      1,      1,      1,      3,      8,      1,\n",
       "            9,      2,      1,      3,      1,      1,      2,      1,\n",
       "            2,      1,      2,      1,      5,      1,      2,      2,\n",
       "            1,      3,      1,      2,      1,      1,      2,      2,\n",
       "            1,      1,      1,      1,      1,      2,      1,      1,\n",
       "            1,      2,      3,      1,      2,      3,      4,      1,\n",
       "            2,      1,      1,      3,      1,      1,      1,      1,\n",
       "            3,      1,      2,      1,      1,      1,      2,      2,\n",
       "            1,      1,      2,      3,      2,      1,      1,      2,\n",
       "            3,      1,      1,      2,      1,      3,      1,      1,\n",
       "            1,      2,      1,      1,      2,      1,      1,      1,\n",
       "            3,      1,      2,      1,      2,      1,      1,      1,\n",
       "            1,      2,      3,      1,      1,      1,      1,      2,\n",
       "            1,      2,      2,      1,      1,      2,      1,      1,\n",
       "            1,      3,      1,      1,      2,      1,      1,      1,\n",
       "            1,      1,      1,      1,      2,      2,      1,      4,\n",
       "            2,      1,      1,      1,      1,      2,      1,      4,\n",
       "            2,      2,      1,      2,      1,      1,      1,      1,\n",
       "            1,      1,      1,      1,      1,      1,      1,      2,\n",
       "            1,      2,      1,      2,      1,      1,      1,      1,\n",
       "            1,      3,      1,      2,      2,      1,      1,      1,\n",
       "            1,      1,      1,      1,      1,      1,      4,      1,\n",
       "            1,      1,      1,      1,      1,      1,      1,      1,\n",
       "            1,      1,      1,      1,      1,      1,      2,      1,\n",
       "            1,      1,      1,      1,      1,      1,      1,      2,\n",
       "            1,      1,      1,      1,      1,      1,      1,      1,\n",
       "            1,      1,      1,      1,      1,      1,      1,      1,\n",
       "            1,      1,      1,      1,      1,      1,      1,      1,\n",
       "            1,      1,      1,      2,      2,      1,      1,      1,\n",
       "            1,      1,      2,      1,      1,      1,      1,      1,\n",
       "            1,      1,      1,      2,      2,      2,      1,      1,\n",
       "            1,      1,      1,      1,      1,      2,      2,      1,\n",
       "            1,      1,      1,      1,      1,      3,      1,      1,\n",
       "            1,      1,      1,      1,      1,      2,      1,      1,\n",
       "            1,      1,      1,      1,      1,      1,      1,      1,\n",
       "            2,      1,      1,      1,      1,      1,      1,      1,\n",
       "            1,      1,      1,      1,      1,      1,      2,      1,\n",
       "            1,      1,      1,      1,      1,      1,      1,      1,\n",
       "            1,      1,      1,      3,      1,      1,      1,      1,\n",
       "            1,      1,      1,      1,      1,      1,      1,      1,\n",
       "            1,      1,      1,      1,      1,      1,      1,      1,\n",
       "            1,      1,      1,      1,      1,      1,      1,      1,\n",
       "            1,      1,      1,      1,      1,      1,      1,      1,\n",
       "            1,      2,      1,      1,      1,      1,      1,      1,\n",
       "            1,      1,      1,      1,      1,      1,      1,      1,\n",
       "            1,      1,      1,      1,      1,      1,      1,      1,\n",
       "            1,      1,      1,      1,      1,      1,      1,      1,\n",
       "            1,      1,      1,      2,      1,      1,      1,      1,\n",
       "            1,      1,      1,      1,      1,      1,      1,      1,\n",
       "            1,      1,      1,      1,      1,      1,      1,      1,\n",
       "            1,      1,      1])"
      ]
     },
     "execution_count": 59,
     "metadata": {
      "tags": []
     },
     "output_type": "execute_result"
    }
   ],
   "source": [
    "xs_ = list(set(np.around((train_data['lot_price'].dropna() + 1) / 1000000)))\n",
    "ys_ = np.array([sum(np.around((train_data['lot_price'].dropna() + 1) / 1000000) == i) for i in xs_])\n",
    "ys_"
   ]
  },
  {
   "cell_type": "code",
   "execution_count": null,
   "metadata": {
    "colab": {
     "base_uri": "https://localhost:8080/",
     "height": 282
    },
    "id": "yLuEQSiwsZFg",
    "outputId": "6c397027-5ebc-42a4-c43b-4bb6791861a5"
   },
   "outputs": [
    {
     "data": {
      "text/plain": [
       "[<matplotlib.lines.Line2D at 0x7f64f3c51198>]"
      ]
     },
     "execution_count": 60,
     "metadata": {
      "tags": []
     },
     "output_type": "execute_result"
    },
    {
     "data": {
      "image/png": "[encoded data removed]",
      "text/plain": [
       "<Figure size 432x288 with 1 Axes>"
      ]
     },
     "metadata": {
      "needs_background": "light",
      "tags": []
     },
     "output_type": "display_data"
    }
   ],
   "source": [
    "plt.plot(xs_, ys_)"
   ]
  },
  {
   "cell_type": "code",
   "execution_count": 78,
   "metadata": {
    "colab": {
     "base_uri": "https://localhost:8080/",
     "height": 207
    },
    "id": "bgXAFoQLuBtI",
    "outputId": "c9408716-964d-49a8-a59f-970d6630cb25"
   },
   "outputs": [
    {
     "data": {
      "text/html": [
       "<div>\n",
       "<style scoped>\n",
       "    .dataframe tbody tr th:only-of-type {\n",
       "        vertical-align: middle;\n",
       "    }\n",
       "\n",
       "    .dataframe tbody tr th {\n",
       "        vertical-align: top;\n",
       "    }\n",
       "\n",
       "    .dataframe thead th {\n",
       "        text-align: right;\n",
       "    }\n",
       "</style>\n",
       "<table border=\"1\" class=\"dataframe\">\n",
       "  <thead>\n",
       "    <tr style=\"text-align: right;\">\n",
       "      <th></th>\n",
       "      <th>pn_lot_anon</th>\n",
       "      <th>fz</th>\n",
       "      <th>region_code</th>\n",
       "      <th>min_publish_date</th>\n",
       "      <th>purchase_name</th>\n",
       "      <th>lot_name</th>\n",
       "      <th>lot_price</th>\n",
       "      <th>okpd2_code</th>\n",
       "      <th>okpd2_names</th>\n",
       "      <th>additional_code</th>\n",
       "      <th>additional_code_names</th>\n",
       "      <th>item_descriptions</th>\n",
       "    </tr>\n",
       "  </thead>\n",
       "  <tbody>\n",
       "    <tr>\n",
       "      <th>0</th>\n",
       "      <td>pn_lot_302983</td>\n",
       "      <td>44fz</td>\n",
       "      <td>86</td>\n",
       "      <td>2020-02-27</td>\n",
       "      <td>Выполнение работ по огнезащитной обработке дер...</td>\n",
       "      <td>NaN</td>\n",
       "      <td>480001.0</td>\n",
       "      <td>43.2</td>\n",
       "      <td>Работы по противопожарной защите</td>\n",
       "      <td>NaN</td>\n",
       "      <td>NaN</td>\n",
       "      <td>Огнезащитная обработка деревянных конструкций ...</td>\n",
       "    </tr>\n",
       "    <tr>\n",
       "      <th>1</th>\n",
       "      <td>pn_lot_7912463</td>\n",
       "      <td>44fz</td>\n",
       "      <td>58</td>\n",
       "      <td>2019-05-27</td>\n",
       "      <td>Поставка светодиодных светильников для сетей у...</td>\n",
       "      <td>NaN</td>\n",
       "      <td>202861.0</td>\n",
       "      <td>27.4</td>\n",
       "      <td>Светильники и устройства осветительные прочие,...</td>\n",
       "      <td>NaN</td>\n",
       "      <td>NaN</td>\n",
       "      <td>Светильник</td>\n",
       "    </tr>\n",
       "  </tbody>\n",
       "</table>\n",
       "</div>"
      ],
      "text/plain": [
       "      pn_lot_anon    fz  region_code min_publish_date  \\\n",
       "0   pn_lot_302983  44fz           86       2020-02-27   \n",
       "1  pn_lot_7912463  44fz           58       2019-05-27   \n",
       "\n",
       "                                       purchase_name lot_name  lot_price  \\\n",
       "0  Выполнение работ по огнезащитной обработке дер...      NaN   480001.0   \n",
       "1  Поставка светодиодных светильников для сетей у...      NaN   202861.0   \n",
       "\n",
       "  okpd2_code                                        okpd2_names  \\\n",
       "0       43.2                   Работы по противопожарной защите   \n",
       "1       27.4  Светильники и устройства осветительные прочие,...   \n",
       "\n",
       "  additional_code additional_code_names  \\\n",
       "0             NaN                   NaN   \n",
       "1             NaN                   NaN   \n",
       "\n",
       "                                   item_descriptions  \n",
       "0  Огнезащитная обработка деревянных конструкций ...  \n",
       "1                                        Светильник   "
      ]
     },
     "execution_count": 78,
     "metadata": {
      "tags": []
     },
     "output_type": "execute_result"
    }
   ],
   "source": [
    "train_data['lot_price'] = train_data['lot_price'] + 1\n",
    "train_data.head(2)"
   ]
  },
  {
   "cell_type": "code",
   "execution_count": 79,
   "metadata": {
    "colab": {
     "base_uri": "https://localhost:8080/",
     "height": 207
    },
    "id": "9SKXdEMWyNLd",
    "outputId": "3a480568-2443-491b-a3a5-191f3767a95b"
   },
   "outputs": [
    {
     "data": {
      "text/html": [
       "<div>\n",
       "<style scoped>\n",
       "    .dataframe tbody tr th:only-of-type {\n",
       "        vertical-align: middle;\n",
       "    }\n",
       "\n",
       "    .dataframe tbody tr th {\n",
       "        vertical-align: top;\n",
       "    }\n",
       "\n",
       "    .dataframe thead th {\n",
       "        text-align: right;\n",
       "    }\n",
       "</style>\n",
       "<table border=\"1\" class=\"dataframe\">\n",
       "  <thead>\n",
       "    <tr style=\"text-align: right;\">\n",
       "      <th></th>\n",
       "      <th>pn_lot_anon</th>\n",
       "      <th>fz</th>\n",
       "      <th>region_code</th>\n",
       "      <th>min_publish_date</th>\n",
       "      <th>purchase_name</th>\n",
       "      <th>lot_name</th>\n",
       "      <th>lot_price</th>\n",
       "      <th>okpd2_code</th>\n",
       "      <th>okpd2_names</th>\n",
       "      <th>additional_code</th>\n",
       "      <th>additional_code_names</th>\n",
       "      <th>item_descriptions</th>\n",
       "    </tr>\n",
       "  </thead>\n",
       "  <tbody>\n",
       "    <tr>\n",
       "      <th>0</th>\n",
       "      <td>pn_lot_302983</td>\n",
       "      <td>44fz</td>\n",
       "      <td>86</td>\n",
       "      <td>2020-02-27</td>\n",
       "      <td>Выполнение работ по огнезащитной обработке дер...</td>\n",
       "      <td>NaN</td>\n",
       "      <td>13.081543</td>\n",
       "      <td>43.2</td>\n",
       "      <td>Работы по противопожарной защите</td>\n",
       "      <td>NaN</td>\n",
       "      <td>NaN</td>\n",
       "      <td>Огнезащитная обработка деревянных конструкций ...</td>\n",
       "    </tr>\n",
       "    <tr>\n",
       "      <th>1</th>\n",
       "      <td>pn_lot_7912463</td>\n",
       "      <td>44fz</td>\n",
       "      <td>58</td>\n",
       "      <td>2019-05-27</td>\n",
       "      <td>Поставка светодиодных светильников для сетей у...</td>\n",
       "      <td>NaN</td>\n",
       "      <td>12.220276</td>\n",
       "      <td>27.4</td>\n",
       "      <td>Светильники и устройства осветительные прочие,...</td>\n",
       "      <td>NaN</td>\n",
       "      <td>NaN</td>\n",
       "      <td>Светильник</td>\n",
       "    </tr>\n",
       "  </tbody>\n",
       "</table>\n",
       "</div>"
      ],
      "text/plain": [
       "      pn_lot_anon    fz  region_code min_publish_date  \\\n",
       "0   pn_lot_302983  44fz           86       2020-02-27   \n",
       "1  pn_lot_7912463  44fz           58       2019-05-27   \n",
       "\n",
       "                                       purchase_name lot_name  lot_price  \\\n",
       "0  Выполнение работ по огнезащитной обработке дер...      NaN  13.081543   \n",
       "1  Поставка светодиодных светильников для сетей у...      NaN  12.220276   \n",
       "\n",
       "  okpd2_code                                        okpd2_names  \\\n",
       "0       43.2                   Работы по противопожарной защите   \n",
       "1       27.4  Светильники и устройства осветительные прочие,...   \n",
       "\n",
       "  additional_code additional_code_names  \\\n",
       "0             NaN                   NaN   \n",
       "1             NaN                   NaN   \n",
       "\n",
       "                                   item_descriptions  \n",
       "0  Огнезащитная обработка деревянных конструкций ...  \n",
       "1                                        Светильник   "
      ]
     },
     "execution_count": 79,
     "metadata": {
      "tags": []
     },
     "output_type": "execute_result"
    }
   ],
   "source": [
    "train_data['lot_price'] = train_data['lot_price'].apply(np.log)\n",
    "train_data.head(2)"
   ]
  },
  {
   "cell_type": "code",
   "execution_count": 63,
   "metadata": {
    "id": "7bzaTCTmzVHA"
   },
   "outputs": [],
   "source": [
    "def nan_stats(name, data=train_data):\n",
    "    print(name + ' NaN:', sum(data[name].isna()))\n",
    "    print(name + ' not NaN:', len(data[name]) - sum(data[name].isna()))\n",
    "    print(name + ' NaN percentage:', (sum(data[name].isna() / len(data[name])) * 100))"
   ]
  },
  {
   "cell_type": "code",
   "execution_count": null,
   "metadata": {
    "colab": {
     "base_uri": "https://localhost:8080/"
    },
    "id": "uN1BYYmJ1Jrk",
    "outputId": "d6e7fc0e-de29-4721-865f-3ee29a7e9218"
   },
   "outputs": [
    {
     "name": "stdout",
     "output_type": "stream",
     "text": [
      "lot_name NaN: 0\n",
      "lot_name not NaN: 778121\n",
      "lot_name NaN percentage: 0.0\n"
     ]
    }
   ],
   "source": [
    "nan_stats('lot_name')"
   ]
  },
  {
   "cell_type": "markdown",
   "metadata": {
    "id": "8HZCDCPq0Vgp"
   },
   "source": [
    "83% NaN -- Не думаю, что этот признак слишком информативный с таким количеством пропусков."
   ]
  },
  {
   "cell_type": "code",
   "execution_count": null,
   "metadata": {
    "colab": {
     "base_uri": "https://localhost:8080/"
    },
    "id": "LsaQtPwf01o-",
    "outputId": "2662648e-b63d-474d-9ec2-f78f4670976f"
   },
   "outputs": [
    {
     "name": "stdout",
     "output_type": "stream",
     "text": [
      "additional_code NaN: 557871\n",
      "additional_code not NaN: 220250\n",
      "additional_code NaN percentage: 71.69463361003855\n",
      "now with 223fz\n",
      "additional_code NaN: 9\n",
      "additional_code not NaN: 128571\n",
      "additional_code NaN percentage: 0.006999533364442372\n",
      "now with 44fz\n",
      "additional_code NaN: 557862\n",
      "additional_code not NaN: 91679\n",
      "additional_code NaN percentage: 85.88557150480818\n"
     ]
    }
   ],
   "source": [
    "nan_stats('additional_code')\n",
    "print('now with 223fz')\n",
    "nan_stats('additional_code', train_data[train_data['fz'] == '223fz'])\n",
    "print('now with 44fz')\n",
    "nan_stats('additional_code', train_data[train_data['fz'] == '44fz'])"
   ]
  },
  {
   "cell_type": "markdown",
   "metadata": {
    "id": "0mkUxFPC2NWB"
   },
   "source": [
    "Хм, спорный признак. Убирать его нельзя, так как для 223fz он нормально заполнен. Он, возможно, не подойдёт по смыслу, но посмотрим. Пока оставим."
   ]
  },
  {
   "cell_type": "code",
   "execution_count": null,
   "metadata": {
    "colab": {
     "base_uri": "https://localhost:8080/"
    },
    "id": "A1c5mzE11nPS",
    "outputId": "61da405c-ced3-4315-c213-5e434e9542b4"
   },
   "outputs": [
    {
     "name": "stdout",
     "output_type": "stream",
     "text": [
      "purchase_name NaN: 0\n",
      "purchase_name not NaN: 778121\n",
      "purchase_name NaN percentage: 0.0\n"
     ]
    }
   ],
   "source": [
    "nan_stats('purchase_name')"
   ]
  },
  {
   "cell_type": "code",
   "execution_count": null,
   "metadata": {
    "colab": {
     "base_uri": "https://localhost:8080/"
    },
    "id": "SB3cWR7p3Rui",
    "outputId": "ce961bb5-bc87-4b8a-e98e-fee5347ddd05"
   },
   "outputs": [
    {
     "name": "stdout",
     "output_type": "stream",
     "text": [
      "okpd2_code NaN: 91688\n",
      "okpd2_code not NaN: 686433\n",
      "okpd2_code NaN percentage: 11.783257359717787\n",
      "okpd2_names NaN: 0\n",
      "okpd2_names not NaN: 778121\n",
      "okpd2_names NaN percentage: 0.0\n"
     ]
    }
   ],
   "source": [
    "nan_stats('okpd2_code')\n",
    "nan_stats('okpd2_names')"
   ]
  },
  {
   "cell_type": "markdown",
   "metadata": {
    "id": "PyHPk5N13a2K"
   },
   "source": [
    "А что же делать с окпд2.. Ну okpd2_names не понадобится. А вот надо будет как-то заполнить эти 11% пропущенных значений. А о чем эти лоты вообще:"
   ]
  },
  {
   "cell_type": "code",
   "execution_count": 80,
   "metadata": {
    "colab": {
     "base_uri": "https://localhost:8080/",
     "height": 254
    },
    "id": "Bqc6m3vQ3v0j",
    "outputId": "44f74d00-f29a-48f3-ec41-6f1cff796a7d"
   },
   "outputs": [
    {
     "data": {
      "text/html": [
       "<div>\n",
       "<style scoped>\n",
       "    .dataframe tbody tr th:only-of-type {\n",
       "        vertical-align: middle;\n",
       "    }\n",
       "\n",
       "    .dataframe tbody tr th {\n",
       "        vertical-align: top;\n",
       "    }\n",
       "\n",
       "    .dataframe thead th {\n",
       "        text-align: right;\n",
       "    }\n",
       "</style>\n",
       "<table border=\"1\" class=\"dataframe\">\n",
       "  <thead>\n",
       "    <tr style=\"text-align: right;\">\n",
       "      <th></th>\n",
       "      <th>pn_lot_anon</th>\n",
       "      <th>fz</th>\n",
       "      <th>region_code</th>\n",
       "      <th>min_publish_date</th>\n",
       "      <th>purchase_name</th>\n",
       "      <th>lot_name</th>\n",
       "      <th>lot_price</th>\n",
       "      <th>okpd2_code</th>\n",
       "      <th>okpd2_names</th>\n",
       "      <th>additional_code</th>\n",
       "      <th>additional_code_names</th>\n",
       "      <th>item_descriptions</th>\n",
       "    </tr>\n",
       "  </thead>\n",
       "  <tbody>\n",
       "    <tr>\n",
       "      <th>4</th>\n",
       "      <td>pn_lot_2843527</td>\n",
       "      <td>44fz</td>\n",
       "      <td>24</td>\n",
       "      <td>2020-03-25</td>\n",
       "      <td>Поставка изделий медицинского назначения (вата...</td>\n",
       "      <td>NaN</td>\n",
       "      <td>10.890069</td>\n",
       "      <td>NaN</td>\n",
       "      <td>NaN</td>\n",
       "      <td>21.2</td>\n",
       "      <td>Рулон ватный, нестерильный</td>\n",
       "      <td>Рулон ватный, нестерильный</td>\n",
       "    </tr>\n",
       "    <tr>\n",
       "      <th>8</th>\n",
       "      <td>pn_lot_6444941</td>\n",
       "      <td>44fz</td>\n",
       "      <td>16</td>\n",
       "      <td>2020-04-07</td>\n",
       "      <td>Право заключения государственного контракта на...</td>\n",
       "      <td>NaN</td>\n",
       "      <td>14.125258</td>\n",
       "      <td>NaN</td>\n",
       "      <td>NaN</td>\n",
       "      <td>17.2</td>\n",
       "      <td>Конверт почтовый бумажный || Папка картонная</td>\n",
       "      <td>Конверт почтовый бумажный Длина--Миллиметр--gr...</td>\n",
       "    </tr>\n",
       "    <tr>\n",
       "      <th>16</th>\n",
       "      <td>pn_lot_8544427</td>\n",
       "      <td>44fz</td>\n",
       "      <td>66</td>\n",
       "      <td>2019-08-06</td>\n",
       "      <td>Поставка канцелярских товаров</td>\n",
       "      <td>NaN</td>\n",
       "      <td>8.749615</td>\n",
       "      <td>NaN</td>\n",
       "      <td>NaN</td>\n",
       "      <td>25.9</td>\n",
       "      <td>Скобы для степлера || Скрепки металлические ||...</td>\n",
       "      <td>Скобы для степлера Размер скоб--№10  || Скрепк...</td>\n",
       "    </tr>\n",
       "  </tbody>\n",
       "</table>\n",
       "</div>"
      ],
      "text/plain": [
       "       pn_lot_anon    fz  region_code min_publish_date  \\\n",
       "4   pn_lot_2843527  44fz           24       2020-03-25   \n",
       "8   pn_lot_6444941  44fz           16       2020-04-07   \n",
       "16  pn_lot_8544427  44fz           66       2019-08-06   \n",
       "\n",
       "                                        purchase_name lot_name  lot_price  \\\n",
       "4   Поставка изделий медицинского назначения (вата...      NaN  10.890069   \n",
       "8   Право заключения государственного контракта на...      NaN  14.125258   \n",
       "16                      Поставка канцелярских товаров      NaN   8.749615   \n",
       "\n",
       "   okpd2_code okpd2_names additional_code  \\\n",
       "4         NaN         NaN            21.2   \n",
       "8         NaN         NaN            17.2   \n",
       "16        NaN         NaN            25.9   \n",
       "\n",
       "                                additional_code_names  \\\n",
       "4                          Рулон ватный, нестерильный   \n",
       "8        Конверт почтовый бумажный || Папка картонная   \n",
       "16  Скобы для степлера || Скрепки металлические ||...   \n",
       "\n",
       "                                    item_descriptions  \n",
       "4                         Рулон ватный, нестерильный   \n",
       "8   Конверт почтовый бумажный Длина--Миллиметр--gr...  \n",
       "16  Скобы для степлера Размер скоб--№10  || Скрепк...  "
      ]
     },
     "execution_count": 80,
     "metadata": {
      "tags": []
     },
     "output_type": "execute_result"
    }
   ],
   "source": [
    "train_data[train_data['okpd2_code'].isna()].head(3)"
   ]
  },
  {
   "cell_type": "markdown",
   "metadata": {
    "id": "ZhwU_DCm3-fu"
   },
   "source": [
    "Можно будет попробовать написать модель чтобы их заполнить. А, у них есть additional_code заполненный"
   ]
  },
  {
   "cell_type": "code",
   "execution_count": 81,
   "metadata": {
    "colab": {
     "base_uri": "https://localhost:8080/",
     "height": 808
    },
    "id": "3OEKHnT6Ea8K",
    "outputId": "cfaff8f8-8b2f-4387-92ad-f4e846259bbe"
   },
   "outputs": [
    {
     "data": {
      "text/html": [
       "<div>\n",
       "<style scoped>\n",
       "    .dataframe tbody tr th:only-of-type {\n",
       "        vertical-align: middle;\n",
       "    }\n",
       "\n",
       "    .dataframe tbody tr th {\n",
       "        vertical-align: top;\n",
       "    }\n",
       "\n",
       "    .dataframe thead th {\n",
       "        text-align: right;\n",
       "    }\n",
       "</style>\n",
       "<table border=\"1\" class=\"dataframe\">\n",
       "  <thead>\n",
       "    <tr style=\"text-align: right;\">\n",
       "      <th></th>\n",
       "      <th>pn_lot_anon</th>\n",
       "      <th>fz</th>\n",
       "      <th>region_code</th>\n",
       "      <th>min_publish_date</th>\n",
       "      <th>purchase_name</th>\n",
       "      <th>lot_name</th>\n",
       "      <th>lot_price</th>\n",
       "      <th>okpd2_code</th>\n",
       "      <th>okpd2_names</th>\n",
       "      <th>additional_code</th>\n",
       "      <th>additional_code_names</th>\n",
       "      <th>item_descriptions</th>\n",
       "    </tr>\n",
       "  </thead>\n",
       "  <tbody>\n",
       "    <tr>\n",
       "      <th>32633</th>\n",
       "      <td>pn_lot_2959307</td>\n",
       "      <td>223fz</td>\n",
       "      <td>24</td>\n",
       "      <td>2019-02-11</td>\n",
       "      <td>Конкурс в электронной форме на право заключени...</td>\n",
       "      <td>Закупка услуг по аудиту бухгалтерской отчетнос...</td>\n",
       "      <td>18.383494</td>\n",
       "      <td>NaN</td>\n",
       "      <td>NaN</td>\n",
       "      <td>NaN</td>\n",
       "      <td>NaN</td>\n",
       "      <td>NaN</td>\n",
       "    </tr>\n",
       "    <tr>\n",
       "      <th>90030</th>\n",
       "      <td>pn_lot_9809342</td>\n",
       "      <td>223fz</td>\n",
       "      <td>24</td>\n",
       "      <td>2019-02-11</td>\n",
       "      <td>Конкурс в электронной форме на право заключени...</td>\n",
       "      <td>Закупка услуг аудита бухгалтерской отчетности,...</td>\n",
       "      <td>16.275877</td>\n",
       "      <td>NaN</td>\n",
       "      <td>NaN</td>\n",
       "      <td>NaN</td>\n",
       "      <td>NaN</td>\n",
       "      <td>NaN</td>\n",
       "    </tr>\n",
       "    <tr>\n",
       "      <th>140171</th>\n",
       "      <td>pn_lot_2991703</td>\n",
       "      <td>223fz</td>\n",
       "      <td>77</td>\n",
       "      <td>2019-12-31</td>\n",
       "      <td>Поставка оборудования сети со спектральным упл...</td>\n",
       "      <td>Поставка оборудования сети со спектральным упл...</td>\n",
       "      <td>18.213285</td>\n",
       "      <td>NaN</td>\n",
       "      <td>NaN</td>\n",
       "      <td>NaN</td>\n",
       "      <td>NaN</td>\n",
       "      <td>NaN</td>\n",
       "    </tr>\n",
       "    <tr>\n",
       "      <th>438194</th>\n",
       "      <td>pn_lot_1099866</td>\n",
       "      <td>223fz</td>\n",
       "      <td>77</td>\n",
       "      <td>2019-04-08</td>\n",
       "      <td>На право заключения договора на оказание услуг...</td>\n",
       "      <td>На право заключения договора на оказание услуг...</td>\n",
       "      <td>13.507627</td>\n",
       "      <td>NaN</td>\n",
       "      <td>NaN</td>\n",
       "      <td>NaN</td>\n",
       "      <td>NaN</td>\n",
       "      <td>NaN</td>\n",
       "    </tr>\n",
       "    <tr>\n",
       "      <th>527181</th>\n",
       "      <td>pn_lot_7327931</td>\n",
       "      <td>223fz</td>\n",
       "      <td>50</td>\n",
       "      <td>2020-04-29</td>\n",
       "      <td>на право заключения договоров поставки запасны...</td>\n",
       "      <td>Запчасти к турбинам УТЗ. Аппараты направляющие...</td>\n",
       "      <td>17.293669</td>\n",
       "      <td>NaN</td>\n",
       "      <td>NaN</td>\n",
       "      <td>NaN</td>\n",
       "      <td>NaN</td>\n",
       "      <td>NaN</td>\n",
       "    </tr>\n",
       "    <tr>\n",
       "      <th>536047</th>\n",
       "      <td>pn_lot_425459</td>\n",
       "      <td>223fz</td>\n",
       "      <td>23</td>\n",
       "      <td>2020-01-29</td>\n",
       "      <td>Поставка дизельного топлива.</td>\n",
       "      <td>Поставка дизельного топлива.</td>\n",
       "      <td>14.397436</td>\n",
       "      <td>NaN</td>\n",
       "      <td>NaN</td>\n",
       "      <td>NaN</td>\n",
       "      <td>NaN</td>\n",
       "      <td>NaN</td>\n",
       "    </tr>\n",
       "    <tr>\n",
       "      <th>545441</th>\n",
       "      <td>pn_lot_5473103</td>\n",
       "      <td>223fz</td>\n",
       "      <td>50</td>\n",
       "      <td>2020-04-29</td>\n",
       "      <td>право заключения договоров поставки запасных ч...</td>\n",
       "      <td>Запчасти к турбинам ЛМЗ. Аппараты сопловые, ди...</td>\n",
       "      <td>17.847767</td>\n",
       "      <td>NaN</td>\n",
       "      <td>NaN</td>\n",
       "      <td>NaN</td>\n",
       "      <td>NaN</td>\n",
       "      <td>NaN</td>\n",
       "    </tr>\n",
       "    <tr>\n",
       "      <th>634394</th>\n",
       "      <td>pn_lot_4882302</td>\n",
       "      <td>223fz</td>\n",
       "      <td>24</td>\n",
       "      <td>2019-02-11</td>\n",
       "      <td>Конкурс в электронной форме на право заключени...</td>\n",
       "      <td>Закупка услуг аудита бухгалтерской отчетности,...</td>\n",
       "      <td>17.099067</td>\n",
       "      <td>NaN</td>\n",
       "      <td>NaN</td>\n",
       "      <td>NaN</td>\n",
       "      <td>NaN</td>\n",
       "      <td>NaN</td>\n",
       "    </tr>\n",
       "  </tbody>\n",
       "</table>\n",
       "</div>"
      ],
      "text/plain": [
       "           pn_lot_anon     fz  region_code min_publish_date  \\\n",
       "32633   pn_lot_2959307  223fz           24       2019-02-11   \n",
       "90030   pn_lot_9809342  223fz           24       2019-02-11   \n",
       "140171  pn_lot_2991703  223fz           77       2019-12-31   \n",
       "438194  pn_lot_1099866  223fz           77       2019-04-08   \n",
       "527181  pn_lot_7327931  223fz           50       2020-04-29   \n",
       "536047   pn_lot_425459  223fz           23       2020-01-29   \n",
       "545441  pn_lot_5473103  223fz           50       2020-04-29   \n",
       "634394  pn_lot_4882302  223fz           24       2019-02-11   \n",
       "\n",
       "                                            purchase_name  \\\n",
       "32633   Конкурс в электронной форме на право заключени...   \n",
       "90030   Конкурс в электронной форме на право заключени...   \n",
       "140171  Поставка оборудования сети со спектральным упл...   \n",
       "438194  На право заключения договора на оказание услуг...   \n",
       "527181  на право заключения договоров поставки запасны...   \n",
       "536047                       Поставка дизельного топлива.   \n",
       "545441  право заключения договоров поставки запасных ч...   \n",
       "634394  Конкурс в электронной форме на право заключени...   \n",
       "\n",
       "                                                 lot_name  lot_price  \\\n",
       "32633   Закупка услуг по аудиту бухгалтерской отчетнос...  18.383494   \n",
       "90030   Закупка услуг аудита бухгалтерской отчетности,...  16.275877   \n",
       "140171  Поставка оборудования сети со спектральным упл...  18.213285   \n",
       "438194  На право заключения договора на оказание услуг...  13.507627   \n",
       "527181  Запчасти к турбинам УТЗ. Аппараты направляющие...  17.293669   \n",
       "536047                       Поставка дизельного топлива.  14.397436   \n",
       "545441  Запчасти к турбинам ЛМЗ. Аппараты сопловые, ди...  17.847767   \n",
       "634394  Закупка услуг аудита бухгалтерской отчетности,...  17.099067   \n",
       "\n",
       "       okpd2_code okpd2_names additional_code additional_code_names  \\\n",
       "32633         NaN         NaN             NaN                   NaN   \n",
       "90030         NaN         NaN             NaN                   NaN   \n",
       "140171        NaN         NaN             NaN                   NaN   \n",
       "438194        NaN         NaN             NaN                   NaN   \n",
       "527181        NaN         NaN             NaN                   NaN   \n",
       "536047        NaN         NaN             NaN                   NaN   \n",
       "545441        NaN         NaN             NaN                   NaN   \n",
       "634394        NaN         NaN             NaN                   NaN   \n",
       "\n",
       "       item_descriptions  \n",
       "32633                NaN  \n",
       "90030                NaN  \n",
       "140171               NaN  \n",
       "438194               NaN  \n",
       "527181               NaN  \n",
       "536047               NaN  \n",
       "545441               NaN  \n",
       "634394               NaN  "
      ]
     },
     "execution_count": 81,
     "metadata": {
      "tags": []
     },
     "output_type": "execute_result"
    }
   ],
   "source": [
    "train_data[train_data['okpd2_code'].isna() & train_data['additional_code'].isna()]"
   ]
  },
  {
   "cell_type": "markdown",
   "metadata": {
    "id": "DxHfCel-E0Jl"
   },
   "source": [
    "Опа, нашлись почти полностью пустые лоты. Надо бы тоже удалить, думаю, их немного."
   ]
  },
  {
   "cell_type": "code",
   "execution_count": 82,
   "metadata": {
    "id": "WPkAA3xAFRJ4"
   },
   "outputs": [],
   "source": [
    "train_data = train_data[train_data['okpd2_code'].notna() | train_data['additional_code'].notna()]"
   ]
  },
  {
   "cell_type": "code",
   "execution_count": 83,
   "metadata": {
    "colab": {
     "base_uri": "https://localhost:8080/"
    },
    "id": "3LVoE87SFanV",
    "outputId": "bdcd9573-62ce-4eb5-f36c-7f9b32b7eb85"
   },
   "outputs": [
    {
     "name": "stdout",
     "output_type": "stream",
     "text": [
      "item_descriptions NaN: 14114\n",
      "item_descriptions not NaN: 118300\n",
      "item_descriptions NaN percentage: 10.658993761987922\n",
      "region_code NaN: 0\n",
      "region_code not NaN: 132414\n",
      "region_code NaN percentage: 0.0\n"
     ]
    }
   ],
   "source": [
    "nan_stats('item_descriptions')\n",
    "nan_stats('region_code')"
   ]
  },
  {
   "cell_type": "code",
   "execution_count": 68,
   "metadata": {
    "colab": {
     "base_uri": "https://localhost:8080/"
    },
    "id": "yqVt9TDDeE6A",
    "outputId": "855d2ea6-98af-43dd-bd2e-c848cf5fd275"
   },
   "outputs": [
    {
     "name": "stdout",
     "output_type": "stream",
     "text": [
      "Requirement already satisfied: pymystem3 in c:\\users\\timofey\\anaconda3\\lib\\site-packages (0.2.0)\n",
      "Requirement already satisfied: requests in c:\\users\\timofey\\anaconda3\\lib\\site-packages (from pymystem3) (2.21.0)\n",
      "Requirement already satisfied: idna<2.9,>=2.5 in c:\\users\\timofey\\anaconda3\\lib\\site-packages (from requests->pymystem3) (2.8)\n",
      "Requirement already satisfied: urllib3<1.25,>=1.21.1 in c:\\users\\timofey\\anaconda3\\lib\\site-packages (from requests->pymystem3) (1.24.3)\n",
      "Requirement already satisfied: chardet<3.1.0,>=3.0.2 in c:\\users\\timofey\\anaconda3\\lib\\site-packages (from requests->pymystem3) (3.0.4)\n",
      "Requirement already satisfied: certifi>=2017.4.17 in c:\\users\\timofey\\anaconda3\\lib\\site-packages (from requests->pymystem3) (2020.6.20)\n"
     ]
    }
   ],
   "source": [
    "!pip install pymystem3"
   ]
  },
  {
   "cell_type": "code",
   "execution_count": null,
   "metadata": {
    "id": "UJ87VVUQeT_9"
   },
   "outputs": [],
   "source": [
    "def MystemOneText(texts):\n",
    "    lol = lambda lst, sz: [lst[i:i+sz] for i in range(0, len(lst), sz)]\n",
    "    txtpart = lol(texts, 1000)\n",
    "    res = []\n",
    "    mystem = Mystem()\n",
    "    for txtp in txtpart:\n",
    "        alltexts = ' '.join([txt + ' br_smb ' for txt in txtp])\n",
    "        words = mystem.lemmatize(alltexts)\n",
    "        doc = []\n",
    "        for txt in words:\n",
    "            if txt != '\\n' and txt.strip() != '':\n",
    "                if txt == 'br_smb':\n",
    "                    res.append(doc)\n",
    "                    doc = []\n",
    "                else:\n",
    "                    doc.append(txt)\n",
    "    return res"
   ]
  },
  {
   "cell_type": "code",
   "execution_count": 84,
   "metadata": {
    "id": "VTwdvXPIA44H"
   },
   "outputs": [],
   "source": [
    "delete_features = ['okpd2_names', 'additional_code_names', 'lot_name', 'Unnamed: 0']"
   ]
  },
  {
   "cell_type": "code",
   "execution_count": 85,
   "metadata": {
    "colab": {
     "base_uri": "https://localhost:8080/",
     "height": 262
    },
    "id": "nq_t3W9UBTVG",
    "outputId": "6f49bd67-6504-4445-a9b1-42e0f0a41c9c"
   },
   "outputs": [
    {
     "data": {
      "text/html": [
       "<div>\n",
       "<style scoped>\n",
       "    .dataframe tbody tr th:only-of-type {\n",
       "        vertical-align: middle;\n",
       "    }\n",
       "\n",
       "    .dataframe tbody tr th {\n",
       "        vertical-align: top;\n",
       "    }\n",
       "\n",
       "    .dataframe thead th {\n",
       "        text-align: right;\n",
       "    }\n",
       "</style>\n",
       "<table border=\"1\" class=\"dataframe\">\n",
       "  <thead>\n",
       "    <tr style=\"text-align: right;\">\n",
       "      <th></th>\n",
       "      <th>pn_lot_anon</th>\n",
       "      <th>fz</th>\n",
       "      <th>region_code</th>\n",
       "      <th>min_publish_date</th>\n",
       "      <th>purchase_name</th>\n",
       "      <th>lot_price</th>\n",
       "      <th>okpd2_code</th>\n",
       "      <th>additional_code</th>\n",
       "      <th>item_descriptions</th>\n",
       "    </tr>\n",
       "  </thead>\n",
       "  <tbody>\n",
       "    <tr>\n",
       "      <th>0</th>\n",
       "      <td>pn_lot_302983</td>\n",
       "      <td>44fz</td>\n",
       "      <td>86</td>\n",
       "      <td>2020-02-27</td>\n",
       "      <td>Выполнение работ по огнезащитной обработке дер...</td>\n",
       "      <td>13.081543</td>\n",
       "      <td>43.2</td>\n",
       "      <td>NaN</td>\n",
       "      <td>Огнезащитная обработка деревянных конструкций ...</td>\n",
       "    </tr>\n",
       "    <tr>\n",
       "      <th>1</th>\n",
       "      <td>pn_lot_7912463</td>\n",
       "      <td>44fz</td>\n",
       "      <td>58</td>\n",
       "      <td>2019-05-27</td>\n",
       "      <td>Поставка светодиодных светильников для сетей у...</td>\n",
       "      <td>12.220276</td>\n",
       "      <td>27.4</td>\n",
       "      <td>NaN</td>\n",
       "      <td>Светильник</td>\n",
       "    </tr>\n",
       "    <tr>\n",
       "      <th>2</th>\n",
       "      <td>pn_lot_9971596</td>\n",
       "      <td>223fz</td>\n",
       "      <td>33</td>\n",
       "      <td>2019-02-25</td>\n",
       "      <td>Поставка дизельного топлива ЕВРО сорт Е вид III</td>\n",
       "      <td>14.015001</td>\n",
       "      <td>19.2</td>\n",
       "      <td>19.2</td>\n",
       "      <td>NaN</td>\n",
       "    </tr>\n",
       "    <tr>\n",
       "      <th>3</th>\n",
       "      <td>pn_lot_5898610</td>\n",
       "      <td>44fz</td>\n",
       "      <td>27</td>\n",
       "      <td>2019-10-25</td>\n",
       "      <td>Услуги (работы) в области защиты информации Ат...</td>\n",
       "      <td>12.206078</td>\n",
       "      <td>74.9</td>\n",
       "      <td>NaN</td>\n",
       "      <td>Услуги (работы) в области защиты информации</td>\n",
       "    </tr>\n",
       "    <tr>\n",
       "      <th>4</th>\n",
       "      <td>pn_lot_2843527</td>\n",
       "      <td>44fz</td>\n",
       "      <td>24</td>\n",
       "      <td>2020-03-25</td>\n",
       "      <td>Поставка изделий медицинского назначения (вата...</td>\n",
       "      <td>10.890069</td>\n",
       "      <td>NaN</td>\n",
       "      <td>21.2</td>\n",
       "      <td>Рулон ватный, нестерильный</td>\n",
       "    </tr>\n",
       "  </tbody>\n",
       "</table>\n",
       "</div>"
      ],
      "text/plain": [
       "      pn_lot_anon     fz  region_code min_publish_date  \\\n",
       "0   pn_lot_302983   44fz           86       2020-02-27   \n",
       "1  pn_lot_7912463   44fz           58       2019-05-27   \n",
       "2  pn_lot_9971596  223fz           33       2019-02-25   \n",
       "3  pn_lot_5898610   44fz           27       2019-10-25   \n",
       "4  pn_lot_2843527   44fz           24       2020-03-25   \n",
       "\n",
       "                                       purchase_name  lot_price okpd2_code  \\\n",
       "0  Выполнение работ по огнезащитной обработке дер...  13.081543       43.2   \n",
       "1  Поставка светодиодных светильников для сетей у...  12.220276       27.4   \n",
       "2    Поставка дизельного топлива ЕВРО сорт Е вид III  14.015001       19.2   \n",
       "3  Услуги (работы) в области защиты информации Ат...  12.206078       74.9   \n",
       "4  Поставка изделий медицинского назначения (вата...  10.890069        NaN   \n",
       "\n",
       "  additional_code                                  item_descriptions  \n",
       "0             NaN  Огнезащитная обработка деревянных конструкций ...  \n",
       "1             NaN                                        Светильник   \n",
       "2            19.2                                                NaN  \n",
       "3             NaN       Услуги (работы) в области защиты информации   \n",
       "4            21.2                        Рулон ватный, нестерильный   "
      ]
     },
     "execution_count": 85,
     "metadata": {
      "tags": []
     },
     "output_type": "execute_result"
    }
   ],
   "source": [
    "transformed_train = train_data.loc[:, [feature for feature in train_data.columns if feature not in delete_features]]\n",
    "transformed_train.head()"
   ]
  },
  {
   "cell_type": "code",
   "execution_count": 86,
   "metadata": {
    "colab": {
     "base_uri": "https://localhost:8080/",
     "height": 140
    },
    "id": "7W_vrDIXKAyl",
    "outputId": "61c8b6ff-774d-4cfd-e6d6-3a5325d3e924"
   },
   "outputs": [
    {
     "data": {
      "text/html": [
       "<div>\n",
       "<style scoped>\n",
       "    .dataframe tbody tr th:only-of-type {\n",
       "        vertical-align: middle;\n",
       "    }\n",
       "\n",
       "    .dataframe tbody tr th {\n",
       "        vertical-align: top;\n",
       "    }\n",
       "\n",
       "    .dataframe thead th {\n",
       "        text-align: right;\n",
       "    }\n",
       "</style>\n",
       "<table border=\"1\" class=\"dataframe\">\n",
       "  <thead>\n",
       "    <tr style=\"text-align: right;\">\n",
       "      <th></th>\n",
       "      <th>pn_lot_anon</th>\n",
       "      <th>fz</th>\n",
       "      <th>region_code</th>\n",
       "      <th>min_publish_date</th>\n",
       "      <th>purchase_name</th>\n",
       "      <th>lot_price</th>\n",
       "      <th>okpd2_code</th>\n",
       "      <th>additional_code</th>\n",
       "      <th>item_descriptions</th>\n",
       "    </tr>\n",
       "  </thead>\n",
       "  <tbody>\n",
       "    <tr>\n",
       "      <th>0</th>\n",
       "      <td>pn_lot_302983</td>\n",
       "      <td>44fz</td>\n",
       "      <td>86</td>\n",
       "      <td>2020-02-27</td>\n",
       "      <td>Выполнение работ по огнезащитной обработке дер...</td>\n",
       "      <td>13.081543</td>\n",
       "      <td>43.2</td>\n",
       "      <td>NaN</td>\n",
       "      <td>Огнезащитная обработка деревянных конструкций ...</td>\n",
       "    </tr>\n",
       "    <tr>\n",
       "      <th>1</th>\n",
       "      <td>pn_lot_7912463</td>\n",
       "      <td>44fz</td>\n",
       "      <td>58</td>\n",
       "      <td>2019-05-27</td>\n",
       "      <td>Поставка светодиодных светильников для сетей у...</td>\n",
       "      <td>12.220276</td>\n",
       "      <td>27.4</td>\n",
       "      <td>NaN</td>\n",
       "      <td>Светильник</td>\n",
       "    </tr>\n",
       "  </tbody>\n",
       "</table>\n",
       "</div>"
      ],
      "text/plain": [
       "      pn_lot_anon    fz  region_code min_publish_date  \\\n",
       "0   pn_lot_302983  44fz           86       2020-02-27   \n",
       "1  pn_lot_7912463  44fz           58       2019-05-27   \n",
       "\n",
       "                                       purchase_name  lot_price okpd2_code  \\\n",
       "0  Выполнение работ по огнезащитной обработке дер...  13.081543       43.2   \n",
       "1  Поставка светодиодных светильников для сетей у...  12.220276       27.4   \n",
       "\n",
       "  additional_code                                  item_descriptions  \n",
       "0             NaN  Огнезащитная обработка деревянных конструкций ...  \n",
       "1             NaN                                        Светильник   "
      ]
     },
     "execution_count": 86,
     "metadata": {
      "tags": []
     },
     "output_type": "execute_result"
    }
   ],
   "source": [
    "transformed_train['min_publish_date'] = pd.to_datetime(transformed_train['min_publish_date'], format='%Y-%m-%d')\n",
    "transformed_train.head(2)"
   ]
  },
  {
   "cell_type": "code",
   "execution_count": 87,
   "metadata": {
    "colab": {
     "base_uri": "https://localhost:8080/",
     "height": 140
    },
    "id": "16-m65QfLbzT",
    "outputId": "40a04cab-95fc-4787-98e6-762f9a7348f1"
   },
   "outputs": [
    {
     "data": {
      "text/html": [
       "<div>\n",
       "<style scoped>\n",
       "    .dataframe tbody tr th:only-of-type {\n",
       "        vertical-align: middle;\n",
       "    }\n",
       "\n",
       "    .dataframe tbody tr th {\n",
       "        vertical-align: top;\n",
       "    }\n",
       "\n",
       "    .dataframe thead th {\n",
       "        text-align: right;\n",
       "    }\n",
       "</style>\n",
       "<table border=\"1\" class=\"dataframe\">\n",
       "  <thead>\n",
       "    <tr style=\"text-align: right;\">\n",
       "      <th></th>\n",
       "      <th>pn_lot_anon</th>\n",
       "      <th>fz</th>\n",
       "      <th>region_code</th>\n",
       "      <th>min_publish_date</th>\n",
       "      <th>purchase_name</th>\n",
       "      <th>lot_price</th>\n",
       "      <th>okpd2_code</th>\n",
       "      <th>additional_code</th>\n",
       "      <th>item_descriptions</th>\n",
       "    </tr>\n",
       "  </thead>\n",
       "  <tbody>\n",
       "    <tr>\n",
       "      <th>0</th>\n",
       "      <td>pn_lot_302983</td>\n",
       "      <td>44fz</td>\n",
       "      <td>86</td>\n",
       "      <td>2020-02-27</td>\n",
       "      <td>Выполнение работ по огнезащитной обработке дер...</td>\n",
       "      <td>13.081543</td>\n",
       "      <td>43.2</td>\n",
       "      <td>NaN</td>\n",
       "      <td>Огнезащитная обработка деревянных конструкций ...</td>\n",
       "    </tr>\n",
       "    <tr>\n",
       "      <th>1</th>\n",
       "      <td>pn_lot_7912463</td>\n",
       "      <td>44fz</td>\n",
       "      <td>58</td>\n",
       "      <td>2019-05-27</td>\n",
       "      <td>Поставка светодиодных светильников для сетей у...</td>\n",
       "      <td>12.220276</td>\n",
       "      <td>27.4</td>\n",
       "      <td>NaN</td>\n",
       "      <td>Светильник</td>\n",
       "    </tr>\n",
       "  </tbody>\n",
       "</table>\n",
       "</div>"
      ],
      "text/plain": [
       "      pn_lot_anon    fz  region_code min_publish_date  \\\n",
       "0   pn_lot_302983  44fz           86       2020-02-27   \n",
       "1  pn_lot_7912463  44fz           58       2019-05-27   \n",
       "\n",
       "                                       purchase_name  lot_price okpd2_code  \\\n",
       "0  Выполнение работ по огнезащитной обработке дер...  13.081543       43.2   \n",
       "1  Поставка светодиодных светильников для сетей у...  12.220276       27.4   \n",
       "\n",
       "  additional_code                                  item_descriptions  \n",
       "0             NaN  Огнезащитная обработка деревянных конструкций ...  \n",
       "1             NaN                                        Светильник   "
      ]
     },
     "execution_count": 87,
     "metadata": {
      "tags": []
     },
     "output_type": "execute_result"
    }
   ],
   "source": [
    "transformed_train['okpd2_code'] = transformed_train[['okpd2_code', 'additional_code']].fillna(0).apply(lambda x: x[1] if x[0] == 0 else x[0], axis=1)\n",
    "transformed_train.head(2)"
   ]
  },
  {
   "cell_type": "code",
   "execution_count": 88,
   "metadata": {
    "colab": {
     "base_uri": "https://localhost:8080/",
     "height": 279
    },
    "id": "T2wC4C18WGjl",
    "outputId": "c2f5063f-2d61-44a9-f07e-449ddea269a1"
   },
   "outputs": [
    {
     "data": {
      "text/html": [
       "<div>\n",
       "<style scoped>\n",
       "    .dataframe tbody tr th:only-of-type {\n",
       "        vertical-align: middle;\n",
       "    }\n",
       "\n",
       "    .dataframe tbody tr th {\n",
       "        vertical-align: top;\n",
       "    }\n",
       "\n",
       "    .dataframe thead th {\n",
       "        text-align: right;\n",
       "    }\n",
       "</style>\n",
       "<table border=\"1\" class=\"dataframe\">\n",
       "  <thead>\n",
       "    <tr style=\"text-align: right;\">\n",
       "      <th></th>\n",
       "      <th>pn_lot_anon</th>\n",
       "      <th>fz</th>\n",
       "      <th>region_code</th>\n",
       "      <th>min_publish_date</th>\n",
       "      <th>purchase_name</th>\n",
       "      <th>lot_price</th>\n",
       "      <th>okpd2_code</th>\n",
       "      <th>additional_code</th>\n",
       "      <th>item_descriptions</th>\n",
       "      <th>date_delta</th>\n",
       "    </tr>\n",
       "  </thead>\n",
       "  <tbody>\n",
       "    <tr>\n",
       "      <th>0</th>\n",
       "      <td>pn_lot_302983</td>\n",
       "      <td>44fz</td>\n",
       "      <td>86</td>\n",
       "      <td>2020-02-27</td>\n",
       "      <td>Выполнение работ по огнезащитной обработке дер...</td>\n",
       "      <td>13.081543</td>\n",
       "      <td>43.2</td>\n",
       "      <td>NaN</td>\n",
       "      <td>Огнезащитная обработка деревянных конструкций ...</td>\n",
       "      <td>339</td>\n",
       "    </tr>\n",
       "    <tr>\n",
       "      <th>1</th>\n",
       "      <td>pn_lot_7912463</td>\n",
       "      <td>44fz</td>\n",
       "      <td>58</td>\n",
       "      <td>2019-05-27</td>\n",
       "      <td>Поставка светодиодных светильников для сетей у...</td>\n",
       "      <td>12.220276</td>\n",
       "      <td>27.4</td>\n",
       "      <td>NaN</td>\n",
       "      <td>Светильник</td>\n",
       "      <td>615</td>\n",
       "    </tr>\n",
       "    <tr>\n",
       "      <th>2</th>\n",
       "      <td>pn_lot_9971596</td>\n",
       "      <td>223fz</td>\n",
       "      <td>33</td>\n",
       "      <td>2019-02-25</td>\n",
       "      <td>Поставка дизельного топлива ЕВРО сорт Е вид III</td>\n",
       "      <td>14.015001</td>\n",
       "      <td>19.2</td>\n",
       "      <td>19.2</td>\n",
       "      <td>NaN</td>\n",
       "      <td>706</td>\n",
       "    </tr>\n",
       "    <tr>\n",
       "      <th>3</th>\n",
       "      <td>pn_lot_5898610</td>\n",
       "      <td>44fz</td>\n",
       "      <td>27</td>\n",
       "      <td>2019-10-25</td>\n",
       "      <td>Услуги (работы) в области защиты информации Ат...</td>\n",
       "      <td>12.206078</td>\n",
       "      <td>74.9</td>\n",
       "      <td>NaN</td>\n",
       "      <td>Услуги (работы) в области защиты информации</td>\n",
       "      <td>464</td>\n",
       "    </tr>\n",
       "    <tr>\n",
       "      <th>4</th>\n",
       "      <td>pn_lot_2843527</td>\n",
       "      <td>44fz</td>\n",
       "      <td>24</td>\n",
       "      <td>2020-03-25</td>\n",
       "      <td>Поставка изделий медицинского назначения (вата...</td>\n",
       "      <td>10.890069</td>\n",
       "      <td>21.2</td>\n",
       "      <td>21.2</td>\n",
       "      <td>Рулон ватный, нестерильный</td>\n",
       "      <td>312</td>\n",
       "    </tr>\n",
       "  </tbody>\n",
       "</table>\n",
       "</div>"
      ],
      "text/plain": [
       "      pn_lot_anon     fz  region_code min_publish_date  \\\n",
       "0   pn_lot_302983   44fz           86       2020-02-27   \n",
       "1  pn_lot_7912463   44fz           58       2019-05-27   \n",
       "2  pn_lot_9971596  223fz           33       2019-02-25   \n",
       "3  pn_lot_5898610   44fz           27       2019-10-25   \n",
       "4  pn_lot_2843527   44fz           24       2020-03-25   \n",
       "\n",
       "                                       purchase_name  lot_price okpd2_code  \\\n",
       "0  Выполнение работ по огнезащитной обработке дер...  13.081543       43.2   \n",
       "1  Поставка светодиодных светильников для сетей у...  12.220276       27.4   \n",
       "2    Поставка дизельного топлива ЕВРО сорт Е вид III  14.015001       19.2   \n",
       "3  Услуги (работы) в области защиты информации Ат...  12.206078       74.9   \n",
       "4  Поставка изделий медицинского назначения (вата...  10.890069       21.2   \n",
       "\n",
       "  additional_code                                  item_descriptions  \\\n",
       "0             NaN  Огнезащитная обработка деревянных конструкций ...   \n",
       "1             NaN                                        Светильник    \n",
       "2            19.2                                                NaN   \n",
       "3             NaN       Услуги (работы) в области защиты информации    \n",
       "4            21.2                        Рулон ватный, нестерильный    \n",
       "\n",
       "   date_delta  \n",
       "0         339  \n",
       "1         615  \n",
       "2         706  \n",
       "3         464  \n",
       "4         312  "
      ]
     },
     "execution_count": 88,
     "metadata": {
      "tags": []
     },
     "output_type": "execute_result"
    }
   ],
   "source": [
    "date_now = pd.Timestamp('20210131')\n",
    "transformed_train['date_delta'] = (date_now - transformed_train['min_publish_date']).dt.days\n",
    "transformed_train.head()"
   ]
  },
  {
   "cell_type": "code",
   "execution_count": 89,
   "metadata": {
    "id": "cnzOQ8MSTM9N"
   },
   "outputs": [],
   "source": [
    "delete_features = ['okpd2_names', 'additional_code_names', 'lot_name', 'additional_code', 'min_publish_date']"
   ]
  },
  {
   "cell_type": "code",
   "execution_count": 90,
   "metadata": {
    "colab": {
     "base_uri": "https://localhost:8080/",
     "height": 195
    },
    "id": "arSPEEWSTK1R",
    "outputId": "5aa41fe3-a376-4fbb-9103-3402f3bb5974"
   },
   "outputs": [
    {
     "data": {
      "text/html": [
       "<div>\n",
       "<style scoped>\n",
       "    .dataframe tbody tr th:only-of-type {\n",
       "        vertical-align: middle;\n",
       "    }\n",
       "\n",
       "    .dataframe tbody tr th {\n",
       "        vertical-align: top;\n",
       "    }\n",
       "\n",
       "    .dataframe thead th {\n",
       "        text-align: right;\n",
       "    }\n",
       "</style>\n",
       "<table border=\"1\" class=\"dataframe\">\n",
       "  <thead>\n",
       "    <tr style=\"text-align: right;\">\n",
       "      <th></th>\n",
       "      <th>pn_lot_anon</th>\n",
       "      <th>fz</th>\n",
       "      <th>region_code</th>\n",
       "      <th>purchase_name</th>\n",
       "      <th>lot_price</th>\n",
       "      <th>okpd2_code</th>\n",
       "      <th>item_descriptions</th>\n",
       "      <th>date_delta</th>\n",
       "    </tr>\n",
       "  </thead>\n",
       "  <tbody>\n",
       "    <tr>\n",
       "      <th>0</th>\n",
       "      <td>pn_lot_302983</td>\n",
       "      <td>44fz</td>\n",
       "      <td>86</td>\n",
       "      <td>Выполнение работ по огнезащитной обработке дер...</td>\n",
       "      <td>13.081543</td>\n",
       "      <td>43.2</td>\n",
       "      <td>Огнезащитная обработка деревянных конструкций ...</td>\n",
       "      <td>339</td>\n",
       "    </tr>\n",
       "    <tr>\n",
       "      <th>1</th>\n",
       "      <td>pn_lot_7912463</td>\n",
       "      <td>44fz</td>\n",
       "      <td>58</td>\n",
       "      <td>Поставка светодиодных светильников для сетей у...</td>\n",
       "      <td>12.220276</td>\n",
       "      <td>27.4</td>\n",
       "      <td>Светильник</td>\n",
       "      <td>615</td>\n",
       "    </tr>\n",
       "    <tr>\n",
       "      <th>2</th>\n",
       "      <td>pn_lot_9971596</td>\n",
       "      <td>223fz</td>\n",
       "      <td>33</td>\n",
       "      <td>Поставка дизельного топлива ЕВРО сорт Е вид III</td>\n",
       "      <td>14.015001</td>\n",
       "      <td>19.2</td>\n",
       "      <td>NaN</td>\n",
       "      <td>706</td>\n",
       "    </tr>\n",
       "    <tr>\n",
       "      <th>3</th>\n",
       "      <td>pn_lot_5898610</td>\n",
       "      <td>44fz</td>\n",
       "      <td>27</td>\n",
       "      <td>Услуги (работы) в области защиты информации Ат...</td>\n",
       "      <td>12.206078</td>\n",
       "      <td>74.9</td>\n",
       "      <td>Услуги (работы) в области защиты информации</td>\n",
       "      <td>464</td>\n",
       "    </tr>\n",
       "    <tr>\n",
       "      <th>4</th>\n",
       "      <td>pn_lot_2843527</td>\n",
       "      <td>44fz</td>\n",
       "      <td>24</td>\n",
       "      <td>Поставка изделий медицинского назначения (вата...</td>\n",
       "      <td>10.890069</td>\n",
       "      <td>21.2</td>\n",
       "      <td>Рулон ватный, нестерильный</td>\n",
       "      <td>312</td>\n",
       "    </tr>\n",
       "  </tbody>\n",
       "</table>\n",
       "</div>"
      ],
      "text/plain": [
       "      pn_lot_anon     fz  region_code  \\\n",
       "0   pn_lot_302983   44fz           86   \n",
       "1  pn_lot_7912463   44fz           58   \n",
       "2  pn_lot_9971596  223fz           33   \n",
       "3  pn_lot_5898610   44fz           27   \n",
       "4  pn_lot_2843527   44fz           24   \n",
       "\n",
       "                                       purchase_name  lot_price okpd2_code  \\\n",
       "0  Выполнение работ по огнезащитной обработке дер...  13.081543       43.2   \n",
       "1  Поставка светодиодных светильников для сетей у...  12.220276       27.4   \n",
       "2    Поставка дизельного топлива ЕВРО сорт Е вид III  14.015001       19.2   \n",
       "3  Услуги (работы) в области защиты информации Ат...  12.206078       74.9   \n",
       "4  Поставка изделий медицинского назначения (вата...  10.890069       21.2   \n",
       "\n",
       "                                   item_descriptions  date_delta  \n",
       "0  Огнезащитная обработка деревянных конструкций ...         339  \n",
       "1                                        Светильник          615  \n",
       "2                                                NaN         706  \n",
       "3       Услуги (работы) в области защиты информации          464  \n",
       "4                        Рулон ватный, нестерильный          312  "
      ]
     },
     "execution_count": 90,
     "metadata": {
      "tags": []
     },
     "output_type": "execute_result"
    }
   ],
   "source": [
    "transformed_train = transformed_train.loc[:, [feature for feature in transformed_train.columns if feature not in delete_features]]\n",
    "transformed_train.head()"
   ]
  },
  {
   "cell_type": "markdown",
   "metadata": {
    "id": "ag4BPqwLTVVz"
   },
   "source": [
    "Удалили additional code + заполнили пропуски okpd2_code из additional_code\n",
    "Заполнили дельту в днях, удаляем дату."
   ]
  },
  {
   "cell_type": "code",
   "execution_count": 91,
   "metadata": {
    "id": "r9YMdpvR4UEX"
   },
   "outputs": [],
   "source": [
    "transformed_train.to_csv(\"C:\\\\Users\\\\Timofey\\\\Downloads\\\\data\\\\train_comp_tr.csv\", sep=';', index=False)"
   ]
  },
  {
   "cell_type": "markdown",
   "metadata": {
    "id": "b3jQKTPPW7Ee"
   },
   "source": [
    "Всё. В целом, вроде, сделали все необходимые для всего датасета изменения. Теперь уже всё будет обрабатываться с учетом разделения на тренировочную и тестовую выборки. Для этого сейчас напишу функцию.\n",
    "\n",
    "\n",
    "---\n",
    "\n"
   ]
  },
  {
   "cell_type": "markdown",
   "metadata": {
    "id": "L1HR5_utXXEw"
   },
   "source": [
    "# Preprocessing after train/test split"
   ]
  },
  {
   "cell_type": "code",
   "execution_count": 1,
   "metadata": {
    "colab": {
     "base_uri": "https://localhost:8080/"
    },
    "id": "sNVTwaWTFkkt",
    "outputId": "0d793c65-153d-4007-f6c5-b394eda3573a"
   },
   "outputs": [
    {
     "name": "stdout",
     "output_type": "stream",
     "text": [
      "Requirement already satisfied: pymorphy2 in c:\\users\\timofey\\anaconda3\\lib\\site-packages (0.9.1)\n",
      "Requirement already satisfied: pymorphy2-dicts-ru<3.0,>=2.4 in c:\\users\\timofey\\anaconda3\\lib\\site-packages (from pymorphy2) (2.4.417127.4579844)\n",
      "Requirement already satisfied: dawg-python>=0.7.1 in c:\\users\\timofey\\anaconda3\\lib\\site-packages (from pymorphy2) (0.7.2)\n",
      "Requirement already satisfied: docopt>=0.6 in c:\\users\\timofey\\anaconda3\\lib\\site-packages (from pymorphy2) (0.6.2)\n",
      "Requirement already satisfied: pymorphy2-dicts in c:\\users\\timofey\\anaconda3\\lib\\site-packages (2.4.393442.3710985)\n",
      "Requirement already satisfied: DAWG-Python in c:\\users\\timofey\\anaconda3\\lib\\site-packages (0.7.2)\n"
     ]
    },
    {
     "name": "stderr",
     "output_type": "stream",
     "text": [
      "ERROR: spyder 4.1.4 requires pyqt5<5.13; python_version >= \"3\", which is not installed.\n",
      "ERROR: spyder 4.1.4 requires pyqtwebengine<5.13; python_version >= \"3\", which is not installed.\n",
      "ERROR: spyder-kernels 1.9.2 has requirement ipykernel>=5.1.3; python_version > \"2\", but you'll have ipykernel 4.6.1 which is incompatible.\n",
      "ERROR: jupyter-console 6.1.0 has requirement prompt-toolkit!=3.0.0,!=3.0.1,<3.1.0,>=2.0.0, but you'll have prompt-toolkit 1.0.18 which is incompatible.\n",
      "[nltk_data] Downloading package punkt to\n",
      "[nltk_data]     C:\\Users\\Timofey\\AppData\\Roaming\\nltk_data...\n"
     ]
    },
    {
     "name": "stdout",
     "output_type": "stream",
     "text": [
      "Processing c:\\users\\timofey\\appdata\\local\\pip\\cache\\wheels\\e4\\e7\\91\\b2736701bca00e273fdc79f80e2727b558e0903d81b758eb69\\google_colab-1.0.0-py2.py3-none-any.whl\n",
      "Processing c:\\users\\timofey\\appdata\\local\\pip\\cache\\wheels\\3d\\17\\1e\\85f3aefe44d39a0b4055971ba075fa082be49dcb831db4e4ae\\pandas-0.24.2-cp38-cp38-win_amd64.whl\n",
      "Collecting ipykernel~=4.6.0\n",
      "  Using cached ipykernel-4.6.1-py3-none-any.whl (104 kB)\n",
      "Requirement already satisfied: notebook~=5.2.0 in c:\\users\\timofey\\anaconda3\\lib\\site-packages (from google.colab) (5.2.2)\n",
      "Requirement already satisfied: six~=1.12.0 in c:\\users\\timofey\\anaconda3\\lib\\site-packages (from google.colab) (1.12.0)\n",
      "Processing c:\\users\\timofey\\appdata\\local\\pip\\cache\\wheels\\b9\\10\\77\\cad2fb4f8ab57cc7cecb92b9b1b0548ac932b8f81774003683\\portpicker-1.2.0-py3-none-any.whl\n",
      "Requirement already satisfied: google-auth~=1.4.0 in c:\\users\\timofey\\anaconda3\\lib\\site-packages (from google.colab) (1.4.2)\n",
      "Collecting requests~=2.21.0\n",
      "  Using cached requests-2.21.0-py2.py3-none-any.whl (57 kB)\n",
      "Collecting ipython~=5.5.0\n",
      "  Using cached ipython-5.5.0-py3-none-any.whl (758 kB)\n",
      "Requirement already satisfied: tornado~=4.5.0 in c:\\users\\timofey\\anaconda3\\lib\\site-packages (from google.colab) (4.5.3)\n",
      "Requirement already satisfied: pytz>=2011k in c:\\users\\timofey\\anaconda3\\lib\\site-packages (from pandas~=0.24.0->google.colab) (2020.1)\n",
      "Requirement already satisfied: python-dateutil>=2.5.0 in c:\\users\\timofey\\anaconda3\\lib\\site-packages (from pandas~=0.24.0->google.colab) (2.8.1)\n",
      "Requirement already satisfied: numpy>=1.12.0 in c:\\users\\timofey\\anaconda3\\lib\\site-packages (from pandas~=0.24.0->google.colab) (1.18.5)\n",
      "Requirement already satisfied: traitlets>=4.1.0 in c:\\users\\timofey\\anaconda3\\lib\\site-packages (from ipykernel~=4.6.0->google.colab) (4.3.3)\n",
      "Requirement already satisfied: jupyter-client in c:\\users\\timofey\\anaconda3\\lib\\site-packages (from ipykernel~=4.6.0->google.colab) (6.1.6)\n",
      "Requirement already satisfied: jupyter-core in c:\\users\\timofey\\anaconda3\\lib\\site-packages (from notebook~=5.2.0->google.colab) (4.6.3)\n",
      "Requirement already satisfied: jinja2 in c:\\users\\timofey\\anaconda3\\lib\\site-packages (from notebook~=5.2.0->google.colab) (2.11.2)\n",
      "Requirement already satisfied: nbconvert in c:\\users\\timofey\\anaconda3\\lib\\site-packages (from notebook~=5.2.0->google.colab) (5.6.1)\n",
      "Requirement already satisfied: nbformat in c:\\users\\timofey\\anaconda3\\lib\\site-packages (from notebook~=5.2.0->google.colab) (5.0.7)\n",
      "Requirement already satisfied: ipython-genutils in c:\\users\\timofey\\anaconda3\\lib\\site-packages (from notebook~=5.2.0->google.colab) (0.2.0)\n",
      "Requirement already satisfied: pyasn1-modules>=0.2.1 in c:\\users\\timofey\\anaconda3\\lib\\site-packages (from google-auth~=1.4.0->google.colab) (0.2.8)\n",
      "Requirement already satisfied: cachetools>=2.0.0 in c:\\users\\timofey\\anaconda3\\lib\\site-packages (from google-auth~=1.4.0->google.colab) (4.2.1)\n",
      "Requirement already satisfied: rsa>=3.1.4 in c:\\users\\timofey\\anaconda3\\lib\\site-packages (from google-auth~=1.4.0->google.colab) (4.7)\n",
      "Collecting idna<2.9,>=2.5\n",
      "  Using cached idna-2.8-py2.py3-none-any.whl (58 kB)\n",
      "Collecting urllib3<1.25,>=1.21.1\n",
      "  Using cached urllib3-1.24.3-py2.py3-none-any.whl (118 kB)\n",
      "Requirement already satisfied: certifi>=2017.4.17 in c:\\users\\timofey\\anaconda3\\lib\\site-packages (from requests~=2.21.0->google.colab) (2020.6.20)\n",
      "Requirement already satisfied: chardet<3.1.0,>=3.0.2 in c:\\users\\timofey\\anaconda3\\lib\\site-packages (from requests~=2.21.0->google.colab) (3.0.4)\n",
      "Requirement already satisfied: pickleshare in c:\\users\\timofey\\anaconda3\\lib\\site-packages (from ipython~=5.5.0->google.colab) (0.7.5)\n",
      "Collecting prompt-toolkit<2.0.0,>=1.0.4\n",
      "  Using cached prompt_toolkit-1.0.18-py3-none-any.whl (245 kB)\n",
      "Requirement already satisfied: pygments in c:\\users\\timofey\\anaconda3\\lib\\site-packages (from ipython~=5.5.0->google.colab) (2.6.1)\n",
      "Requirement already satisfied: decorator in c:\\users\\timofey\\anaconda3\\lib\\site-packages (from ipython~=5.5.0->google.colab) (4.4.2)\n",
      "Requirement already satisfied: colorama; sys_platform == \"win32\" in c:\\users\\timofey\\anaconda3\\lib\\site-packages (from ipython~=5.5.0->google.colab) (0.4.3)\n",
      "Requirement already satisfied: simplegeneric>0.8 in c:\\users\\timofey\\anaconda3\\lib\\site-packages (from ipython~=5.5.0->google.colab) (0.8.1)\n",
      "Requirement already satisfied: setuptools>=18.5 in c:\\users\\timofey\\anaconda3\\lib\\site-packages (from ipython~=5.5.0->google.colab) (49.2.0.post20200714)\n",
      "Requirement already satisfied: pyzmq>=13 in c:\\users\\timofey\\anaconda3\\lib\\site-packages (from jupyter-client->ipykernel~=4.6.0->google.colab) (19.0.1)\n",
      "Requirement already satisfied: pywin32>=1.0; sys_platform == \"win32\" in c:\\users\\timofey\\anaconda3\\lib\\site-packages (from jupyter-core->notebook~=5.2.0->google.colab) (227)\n",
      "Requirement already satisfied: MarkupSafe>=0.23 in c:\\users\\timofey\\anaconda3\\lib\\site-packages (from jinja2->notebook~=5.2.0->google.colab) (1.1.1)\n",
      "Requirement already satisfied: defusedxml in c:\\users\\timofey\\anaconda3\\lib\\site-packages (from nbconvert->notebook~=5.2.0->google.colab) (0.6.0)\n",
      "Requirement already satisfied: pandocfilters>=1.4.1 in c:\\users\\timofey\\anaconda3\\lib\\site-packages (from nbconvert->notebook~=5.2.0->google.colab) (1.4.2)\n",
      "Requirement already satisfied: entrypoints>=0.2.2 in c:\\users\\timofey\\anaconda3\\lib\\site-packages (from nbconvert->notebook~=5.2.0->google.colab) (0.3)\n",
      "Requirement already satisfied: bleach in c:\\users\\timofey\\anaconda3\\lib\\site-packages (from nbconvert->notebook~=5.2.0->google.colab) (3.1.5)\n",
      "Requirement already satisfied: mistune<2,>=0.8.1 in c:\\users\\timofey\\anaconda3\\lib\\site-packages (from nbconvert->notebook~=5.2.0->google.colab) (0.8.4)\n",
      "Requirement already satisfied: testpath in c:\\users\\timofey\\anaconda3\\lib\\site-packages (from nbconvert->notebook~=5.2.0->google.colab) (0.4.4)\n",
      "Requirement already satisfied: jsonschema!=2.5.0,>=2.4 in c:\\users\\timofey\\anaconda3\\lib\\site-packages (from nbformat->notebook~=5.2.0->google.colab) (3.2.0)\n",
      "Requirement already satisfied: pyasn1<0.5.0,>=0.4.6 in c:\\users\\timofey\\anaconda3\\lib\\site-packages (from pyasn1-modules>=0.2.1->google-auth~=1.4.0->google.colab) (0.4.8)\n",
      "Requirement already satisfied: wcwidth in c:\\users\\timofey\\anaconda3\\lib\\site-packages (from prompt-toolkit<2.0.0,>=1.0.4->ipython~=5.5.0->google.colab) (0.2.5)\n",
      "Requirement already satisfied: webencodings in c:\\users\\timofey\\anaconda3\\lib\\site-packages (from bleach->nbconvert->notebook~=5.2.0->google.colab) (0.5.1)\n",
      "Requirement already satisfied: packaging in c:\\users\\timofey\\anaconda3\\lib\\site-packages (from bleach->nbconvert->notebook~=5.2.0->google.colab) (20.4)\n",
      "Requirement already satisfied: pyrsistent>=0.14.0 in c:\\users\\timofey\\anaconda3\\lib\\site-packages (from jsonschema!=2.5.0,>=2.4->nbformat->notebook~=5.2.0->google.colab) (0.16.0)\n",
      "Requirement already satisfied: attrs>=17.4.0 in c:\\users\\timofey\\anaconda3\\lib\\site-packages (from jsonschema!=2.5.0,>=2.4->nbformat->notebook~=5.2.0->google.colab) (19.3.0)\n",
      "Requirement already satisfied: pyparsing>=2.0.2 in c:\\users\\timofey\\anaconda3\\lib\\site-packages (from packaging->bleach->nbconvert->notebook~=5.2.0->google.colab) (2.4.7)\n",
      "Installing collected packages: pandas, prompt-toolkit, ipython, ipykernel, portpicker, idna, urllib3, requests, google.colab\n",
      "  Attempting uninstall: pandas\n",
      "    Found existing installation: pandas 1.0.5\n",
      "    Uninstalling pandas-1.0.5:\n",
      "      Successfully uninstalled pandas-1.0.5\n",
      "  Attempting uninstall: prompt-toolkit\n",
      "    Found existing installation: prompt-toolkit 3.0.14\n",
      "    Uninstalling prompt-toolkit-3.0.14:\n",
      "      Successfully uninstalled prompt-toolkit-3.0.14\n",
      "  Attempting uninstall: ipython\n",
      "    Found existing installation: ipython 7.20.0\n",
      "    Uninstalling ipython-7.20.0:\n",
      "      Successfully uninstalled ipython-7.20.0\n",
      "  Attempting uninstall: ipykernel\n",
      "    Found existing installation: ipykernel 5.4.3\n",
      "    Uninstalling ipykernel-5.4.3:\n",
      "      Successfully uninstalled ipykernel-5.4.3\n",
      "  Attempting uninstall: idna\n",
      "    Found existing installation: idna 2.10\n",
      "    Uninstalling idna-2.10:\n",
      "      Successfully uninstalled idna-2.10\n",
      "  Attempting uninstall: urllib3\n",
      "    Found existing installation: urllib3 1.25.9\n",
      "    Uninstalling urllib3-1.25.9:\n",
      "      Successfully uninstalled urllib3-1.25.9\n",
      "  Attempting uninstall: requests\n",
      "    Found existing installation: requests 2.24.0\n",
      "    Uninstalling requests-2.24.0:\n",
      "      Successfully uninstalled requests-2.24.0\n",
      "Successfully installed google.colab idna-2.8 ipykernel-4.6.1 ipython-5.5.0 pandas-0.24.2 portpicker-1.2.0 prompt-toolkit-1.0.18 requests-2.21.0 urllib3-1.24.3\n"
     ]
    },
    {
     "name": "stderr",
     "output_type": "stream",
     "text": [
      "[nltk_data]   Package punkt is already up-to-date!\n"
     ]
    },
    {
     "data": {
      "text/plain": [
       "True"
      ]
     },
     "execution_count": 1,
     "metadata": {
      "tags": []
     },
     "output_type": "execute_result"
    }
   ],
   "source": [
    "import nltk\n",
    "!pip install pymorphy2\n",
    "!pip install pymorphy2-dicts\n",
    "!pip install DAWG-Python\n",
    "!pip install google.colab\n",
    "nltk.download('punkt')"
   ]
  },
  {
   "cell_type": "code",
   "execution_count": null,
   "metadata": {
    "colab": {
     "base_uri": "https://localhost:8080/",
     "height": 178
    },
    "id": "i2ZBUkz4b85c",
    "outputId": "8c2c7436-b1a6-49f9-98f5-9fbfa5aa303c"
   },
   "outputs": [
    {
     "ename": "ModuleNotFoundError",
     "evalue": "ignored",
     "output_type": "error",
     "traceback": [
      "\u001b[1;31m---------------------------------------------------------------------------\u001b[0m",
      "\u001b[1;31mModuleNotFoundError\u001b[0m                       Traceback (most recent call last)",
      "\u001b[1;32m<ipython-input-3-bf1647b42bbd>\u001b[0m in \u001b[0;36m<module>\u001b[1;34m\u001b[0m\n\u001b[1;32m----> 1\u001b[1;33m \u001b[1;32mfrom\u001b[0m \u001b[0mgoogle\u001b[0m\u001b[1;33m.\u001b[0m\u001b[0mcolab\u001b[0m \u001b[1;32mimport\u001b[0m \u001b[0mdrive\u001b[0m\u001b[1;33m\u001b[0m\u001b[1;33m\u001b[0m\u001b[0m\n\u001b[0m\u001b[0;32m      2\u001b[0m \u001b[0mdrive\u001b[0m\u001b[1;33m.\u001b[0m\u001b[0mmount\u001b[0m\u001b[1;33m(\u001b[0m\u001b[1;34m\"/content/drive\"\u001b[0m\u001b[1;33m)\u001b[0m\u001b[1;33m\u001b[0m\u001b[1;33m\u001b[0m\u001b[0m\n",
      "\u001b[1;31mModuleNotFoundError\u001b[0m: No module named 'google'"
     ]
    }
   ],
   "source": [
    "# Run (Drive)\n",
    "from google.colab import drive\n",
    "drive.mount(\"/content/drive\")"
   ]
  },
  {
   "cell_type": "code",
   "execution_count": 2,
   "metadata": {
    "id": "JgUVSwkk-Hgf"
   },
   "outputs": [],
   "source": [
    "# Run\n",
    "from sklearn.feature_extraction.text import TfidfVectorizer\n",
    "from sklearn.decomposition import TruncatedSVD\n",
    "from sklearn.preprocessing import OneHotEncoder\n",
    "from sklearn.model_selection import  train_test_split\n",
    "from sklearn.decomposition import PCA\n",
    "from sklearn.preprocessing import StandardScaler\n",
    "import pymorphy2\n",
    "import re\n",
    "import nltk\n",
    "%matplotlib inline\n",
    "import matplotlib.pyplot as plt\n",
    "import pandas as pd\n",
    "import numpy as np\n",
    "from scipy.sparse import csr_matrix\n",
    "from scipy.sparse import hstack"
   ]
  },
  {
   "cell_type": "code",
   "execution_count": null,
   "metadata": {
    "colab": {
     "base_uri": "https://localhost:8080/",
     "height": 136
    },
    "id": "bqlHXPqTBk84",
    "outputId": "1e5ed49c-a8a1-4673-82fb-554d314895dc"
   },
   "outputs": [
    {
     "data": {
      "text/html": [
       "<div>\n",
       "<style scoped>\n",
       "    .dataframe tbody tr th:only-of-type {\n",
       "        vertical-align: middle;\n",
       "    }\n",
       "\n",
       "    .dataframe tbody tr th {\n",
       "        vertical-align: top;\n",
       "    }\n",
       "\n",
       "    .dataframe thead th {\n",
       "        text-align: right;\n",
       "    }\n",
       "</style>\n",
       "<table border=\"1\" class=\"dataframe\">\n",
       "  <thead>\n",
       "    <tr style=\"text-align: right;\">\n",
       "      <th></th>\n",
       "      <th>pn_lot_anon</th>\n",
       "      <th>fz</th>\n",
       "      <th>region_code</th>\n",
       "      <th>purchase_name</th>\n",
       "      <th>lot_price</th>\n",
       "      <th>okpd2_code</th>\n",
       "      <th>item_descriptions</th>\n",
       "      <th>date_delta</th>\n",
       "    </tr>\n",
       "  </thead>\n",
       "  <tbody>\n",
       "    <tr>\n",
       "      <th>0</th>\n",
       "      <td>pn_lot_7031618</td>\n",
       "      <td>44fz</td>\n",
       "      <td>2</td>\n",
       "      <td>услуга по проведение финансовый аудит</td>\n",
       "      <td>11.723996</td>\n",
       "      <td>69.2</td>\n",
       "      <td>услуга по проведение финансовый аудит</td>\n",
       "      <td>524</td>\n",
       "    </tr>\n",
       "    <tr>\n",
       "      <th>1</th>\n",
       "      <td>pn_lot_7808247</td>\n",
       "      <td>44fz</td>\n",
       "      <td>2</td>\n",
       "      <td>приобретение приз для проведение конкурс по во...</td>\n",
       "      <td>11.877569</td>\n",
       "      <td>26.4</td>\n",
       "      <td>телефон головной ,  наушник и комбинированный ...</td>\n",
       "      <td>691</td>\n",
       "    </tr>\n",
       "    <tr>\n",
       "      <th>2</th>\n",
       "      <td>pn_lot_7009496</td>\n",
       "      <td>44fz</td>\n",
       "      <td>2</td>\n",
       "      <td>приобретение приз для проведение мероприятие я...</td>\n",
       "      <td>11.729648</td>\n",
       "      <td>26.2</td>\n",
       "      <td>устройство запоминать внешний</td>\n",
       "      <td>689</td>\n",
       "    </tr>\n",
       "  </tbody>\n",
       "</table>\n",
       "</div>"
      ],
      "text/plain": [
       "      pn_lot_anon    fz  region_code  \\\n",
       "0  pn_lot_7031618  44fz            2   \n",
       "1  pn_lot_7808247  44fz            2   \n",
       "2  pn_lot_7009496  44fz            2   \n",
       "\n",
       "                                       purchase_name  lot_price okpd2_code  \\\n",
       "0              услуга по проведение финансовый аудит  11.723996       69.2   \n",
       "1  приобретение приз для проведение конкурс по во...  11.877569       26.4   \n",
       "2  приобретение приз для проведение мероприятие я...  11.729648       26.2   \n",
       "\n",
       "                                   item_descriptions  date_delta  \n",
       "0              услуга по проведение финансовый аудит         524  \n",
       "1  телефон головной ,  наушник и комбинированный ...         691  \n",
       "2                      устройство запоминать внешний         689  "
      ]
     },
     "execution_count": 21,
     "metadata": {
      "tags": []
     },
     "output_type": "execute_result"
    }
   ],
   "source": [
    "# Run (Drive)\n",
    "# transformed_train = pd.read_csv(\"/content/drive/My Drive/Zakupki/data/train_data_lem_transformed.csv\", sep=';')\n",
    "transformed_train = pd.read_csv(\"C:\\\\Users\\\\Timofey\\\\Downloads\\\\data\\\\train_data_lem_transformed.csv\", sep=';')\n",
    "transformed_test = pd.read_csv(\"C:\\\\Users\\\\Timofey\\\\Downloads\\\\data\\\\test_data_lem_transformed.csv\", sep=';')\n",
    "transformed_train.head(3)"
   ]
  },
  {
   "cell_type": "code",
   "execution_count": 3,
   "metadata": {
    "id": "aYjzzItN6E96"
   },
   "outputs": [],
   "source": [
    "# Run\n",
    "def getCSR_MATRIXfromNPMatrix(Matrix): # построение за numpy array\n",
    "    return csr_matrix(Matrix)\n",
    "\n",
    "def getCSR_MATRIXfromPythonMatrix(Matrix): # построение из python list\n",
    "    return csr_matrix(np.array(Matrix))\n",
    "\n",
    "def mergeCSRMatrixs(*nums): # слияние любого кол-ва матриц подряд\n",
    "    first = nums[0]\n",
    "    for i in range(1, len(nums)):\n",
    "        first = hstack([first, nums[i]])\n",
    "    return first\n",
    "\n",
    "def reduce_dimensions(train_f, test_f):\n",
    "    cnt_dim = 140\n",
    "    svd = TruncatedSVD(n_components=cnt_dim, random_state=228, algorithm='arpack')\n",
    "    train_f_pca = svd.fit_transform(train_f)\n",
    "    test_f_pca = svd.transform(test_f)\n",
    "    return train_f_pca, test_f_pca\n",
    "\n",
    "def combine_all(data, train_f, test_f):\n",
    "    train_data, test_data = data\n",
    "    train_data = pd.DataFrame(train_data)\n",
    "    test_data = pd.DataFrame(test_data)\n",
    "    other_features = ['lot_price', 'date_delta', 'mean_region_price', 'mean_okpd_price', 'pn_lot_anon']\n",
    "    for feature in other_features:\n",
    "        train_data[feature] = train_f[feature]\n",
    "        test_data[feature] = test_f[feature]\n",
    "    scaler = StandardScaler()\n",
    "    if (False):\n",
    "        train_data[['lot_price']] = scaler.fit_transform(train_data[['lot_price']])\n",
    "        test_data[['lot_price']] = scaler.transform(test_data[['lot_price']])\n",
    "    return train_data, test_data"
   ]
  },
  {
   "cell_type": "code",
   "execution_count": 4,
   "metadata": {
    "id": "56UQdbLfXfIu"
   },
   "outputs": [],
   "source": [
    "# Run\n",
    "def preprocessing_after_split(train_f, test_f, logs, text_columns=['purchase_name', 'item_descriptions'], cat_columns=['fz', 'region_code', 'okpd2_code']):\n",
    "    train_f = train_f.fillna(0)\n",
    "    train_f = train_f[train_f.item_descriptions != 0]\n",
    "    test_f = test_f.fillna(0)\n",
    "    test_f = test_f[test_f.item_descriptions != 0]\n",
    "    train_f = train_f.reset_index()\n",
    "    test_f = test_f.reset_index()\n",
    "\n",
    "    # one-hot\n",
    "    train_f[cat_columns].fillna('None', inplace=True)\n",
    "    oh_enc = OneHotEncoder(handle_unknown='ignore')\n",
    "    train_f_oh = oh_enc.fit_transform(train_f[cat_columns])\n",
    "    test_f_oh = oh_enc.transform(test_f[cat_columns])\n",
    "    train_dataCSR = train_f_oh\n",
    "    test_dataCSR = test_f_oh\n",
    "    #tf-idf\n",
    "    if (False):\n",
    "        for name in text_columns:\n",
    "            vectorizer = TfidfVectorizer(max_df=1.0, min_df=1, max_features=666, decode_error=\n",
    "                                    'replace')\n",
    "            train_f_tfidf = vectorizer.fit_transform(train_f[name])\n",
    "            test_f_tfidf = vectorizer.transform(test_f[name])\n",
    "            # train_dataCSR = mergeCSRMatrixs(train_dataCSR, train_f_tfidf)\n",
    "            # test_dataCSR = mergeCSRMatrixs(test_dataCSR, test_f_tfidf)\n",
    "            print(train_dataCSR.shape)\n",
    "        # print(vectorizer.get_feature_names())\n",
    "    regions = set(train_f['region_code'].values)\n",
    "    if (False):\n",
    "        region_part = np.full(max(regions), 0)\n",
    "        region_price = np.full(max(regions), 0)\n",
    "        for i in range(len(logs)):\n",
    "            lot = logs.loc[logs.index[i], 'pn_lot_anon']\n",
    "            cur_lot = train_f[train_f['pn_lot_anon'] == lot]\n",
    "            if len(cur_lot) == 0:\n",
    "                continue\n",
    "            cur_region = cur_lot['region_code'].values[0]\n",
    "            region_part[cur_region] += 1\n",
    "            region_price[cur_region] += (cur_lot['lot_price'].values[0])\n",
    "        for i in train_f.index:\n",
    "            train_f.loc[i, 'region_part'] = region_part[train_f.loc[i, 'region_code']]\n",
    "            train_f.loc[i, 'region_price'] = region_price[train_f.loc[i, 'region_code']]\n",
    "    if (True):\n",
    "        train_f['mean_region_price'] = np.full(len(train_f), 0)\n",
    "        test_f['mean_region_price'] = np.full(len(test_f), 0)\n",
    "        for region in regions: \n",
    "            prices = train_f[train_f['region_code'] == region]['lot_price']\n",
    "            prices = prices.apply(np.exp)\n",
    "            now_mean = np.mean(prices)\n",
    "            now_mean = np.log(now_mean)\n",
    "            train_f.loc[train_f['region_code'] == region, 'mean_region_price'] = now_mean\n",
    "            test_f.loc[test_f['region_code'] == region, 'mean_region_price'] = now_mean\n",
    "        if (False): # Worse\n",
    "            train_f['mean_region_price'] -= train_f['mean_region_price'].min()\n",
    "            train_f['mean_region_price'] /= train_f['mean_region_price'].max()\n",
    "            test_f['mean_region_price'] -= test_f['mean_region_price'].min()\n",
    "            test_f['mean_region_price'] /= test_f['mean_region_price'].max()\n",
    "        if (False):\n",
    "            train_dataCSR = mergeCSRMatrixs(train_dataCSR, getCSR_MATRIXfromNPMatrix(train_f['mean_region_price'].values.reshape(len(train_f), 1)))\n",
    "            test_dataCSR = mergeCSRMatrixs(test_dataCSR, getCSR_MATRIXfromNPMatrix(test_f['mean_region_price'].values.reshape(len(test_f), 1)))\n",
    "    if (False): # Worse\n",
    "            train_f['region_price'] -= train_f['region_price'].min()\n",
    "            train_f['region_price'] /= train_f['region_price'].max()\n",
    "            test_f['region_price'] -= test_f['region_price'].min()\n",
    "            test_f['region_price'] /= test_f['region_price'].max()\n",
    "            train_f['region_part'] -= train_f['region_part'].min()\n",
    "            train_f['region_part'] /= train_f['region_part'].max()\n",
    "            test_f['region_part'] -= test_f['region_part'].min()\n",
    "            test_f['region_part'] /= test_f['region_part'].max()\n",
    "    if (True):\n",
    "        train_f['mean_okpd_price'] = np.full(len(train_f), 0)\n",
    "        test_f['mean_okpd_price'] = np.full(len(test_f), 0)\n",
    "        okpds = set(train_f['okpd2_code'].values)\n",
    "        for okpd in okpds: \n",
    "            prices = train_f[train_f['okpd2_code'] == okpd]['lot_price']\n",
    "            prices = prices.apply(np.exp)\n",
    "            now_mean = np.mean(prices)\n",
    "            now_mean = np.log(now_mean)\n",
    "            train_f.loc[train_f['okpd2_code'] == okpd, 'mean_okpd_price'] = now_mean\n",
    "            test_f.loc[test_f['okpd2_code'] == okpd, 'mean_okpd_price'] = now_mean\n",
    "        if (False): # Worse\n",
    "            train_f['mean_okpd_price'] -= train_f['mean_okpd_price'].min()\n",
    "            train_f['mean_okpd_price'] /= train_f['mean_okpd_price'].max()\n",
    "            test_f['mean_okpd_price'] -= test_f['mean_okpd_price'].min()\n",
    "            test_f['mean_okpd_price'] /= test_f['mean_okpd_price'].max()\n",
    "        if (False):\n",
    "            train_dataCSR = mergeCSRMatrixs(train_dataCSR, getCSR_MATRIXfromNPMatrix(train_f['mean_okpd_price'].values.reshape(len(train_f), 1)))\n",
    "            test_dataCSR = mergeCSRMatrixs(test_dataCSR, getCSR_MATRIXfromNPMatrix(test_f['mean_okpd_price'].values.reshape(len(test_f), 1)))\n",
    "    if (True): # Worse\n",
    "            train_f['date_delta'] -= train_f['date_delta'].min()\n",
    "            train_f['date_delta'] /= train_f['date_delta'].max()\n",
    "            test_f['date_delta'] -= test_f['date_delta'].min()\n",
    "            test_f['date_delta'] /= test_f['date_delta'].max()\n",
    "            train_f['date_delta'] *= (-1)\n",
    "            test_f['date_delta'] *= (-1)\n",
    "    return combine_all(reduce_dimensions(train_dataCSR, test_dataCSR), train_f, test_f)"
   ]
  },
  {
   "cell_type": "markdown",
   "metadata": {
    "id": "VIRfvEKhDVYz"
   },
   "source": [
    "\n",
    "\n",
    "\n",
    "Теперь у нас есть функция *preprocessing_after_split*\n",
    "У неё есть параметры:\n",
    "\n",
    "\n",
    "*   train_f - DataFrame с train данными\n",
    "*   test_f - DataFrame с test данными\n",
    "*   text_columns = ['purchase_name', 'item_descriptions'] - названия features с текстом\n",
    "*   cat_columns = ['fz', 'region_code', 'okpd2_code'] - названия категориальных features\n",
    "\n",
    "Она возвращает (train_data, test_data) - два DataFrame с обработанными и сжатыми данными. \n",
    "\n",
    "Запускайте эту функцию после разбиения данных на train и test.\n",
    "\n",
    "---"
   ]
  },
  {
   "cell_type": "markdown",
   "metadata": {
    "id": "fF0c5Q9lE0QG"
   },
   "source": [
    "# Модель"
   ]
  },
  {
   "cell_type": "code",
   "execution_count": 6,
   "metadata": {
    "id": "efDGSBC4GDVM"
   },
   "outputs": [],
   "source": [
    "# Run (Drive)\n",
    "# transformed_train = pd.read_csv(\"/content/drive/My Drive/Zakupki/data/train_data_lem_transformed.csv\", sep=';')\n",
    "# df = pd.read_csv(\"C:\\\\Users\\\\Timofey\\\\Downloads\\\\data\\\\train_data_lem_transformed.csv\", sep=';')\n",
    "train = pd.read_csv(\"C:\\\\Users\\\\Timofey\\\\Downloads\\\\data\\\\train_comp_tr.csv\", sep=';')\n",
    "test = pd.read_csv(\"C:\\\\Users\\\\Timofey\\\\Downloads\\\\data\\\\test_comp_tr.csv\", sep=';')\n",
    "logs = pd.read_csv(\"C:\\\\Users\\\\Timofey\\\\Downloads\\\\data\\\\logs_comp_50.csv\", sep=';')\n",
    "# df.head(3)"
   ]
  },
  {
   "cell_type": "code",
   "execution_count": 7,
   "metadata": {
    "colab": {
     "base_uri": "https://localhost:8080/",
     "height": 136
    },
    "id": "NVhkHColGUao",
    "outputId": "1968a49d-55ef-4fe3-dee8-196b04034e50"
   },
   "outputs": [
    {
     "data": {
      "text/html": [
       "<div>\n",
       "<style scoped>\n",
       "    .dataframe tbody tr th:only-of-type {\n",
       "        vertical-align: middle;\n",
       "    }\n",
       "\n",
       "    .dataframe tbody tr th {\n",
       "        vertical-align: top;\n",
       "    }\n",
       "\n",
       "    .dataframe thead th {\n",
       "        text-align: right;\n",
       "    }\n",
       "</style>\n",
       "<table border=\"1\" class=\"dataframe\">\n",
       "  <thead>\n",
       "    <tr style=\"text-align: right;\">\n",
       "      <th></th>\n",
       "      <th>pn_lot_anon</th>\n",
       "      <th>participant_inn_kpp_anon</th>\n",
       "      <th>is_winner</th>\n",
       "      <th>fz</th>\n",
       "    </tr>\n",
       "  </thead>\n",
       "  <tbody>\n",
       "    <tr>\n",
       "      <th>0</th>\n",
       "      <td>pn_lot_9388470</td>\n",
       "      <td>inn_kpp_8524647</td>\n",
       "      <td>1</td>\n",
       "      <td>44fz</td>\n",
       "    </tr>\n",
       "    <tr>\n",
       "      <th>1</th>\n",
       "      <td>pn_lot_9624297</td>\n",
       "      <td>inn_kpp_2372365</td>\n",
       "      <td>0</td>\n",
       "      <td>44fz</td>\n",
       "    </tr>\n",
       "    <tr>\n",
       "      <th>2</th>\n",
       "      <td>pn_lot_5748172</td>\n",
       "      <td>inn_kpp_6739726</td>\n",
       "      <td>1</td>\n",
       "      <td>44fz</td>\n",
       "    </tr>\n",
       "  </tbody>\n",
       "</table>\n",
       "</div>"
      ],
      "text/plain": [
       "      pn_lot_anon participant_inn_kpp_anon  is_winner    fz\n",
       "0  pn_lot_9388470          inn_kpp_8524647          1  44fz\n",
       "1  pn_lot_9624297          inn_kpp_2372365          0  44fz\n",
       "2  pn_lot_5748172          inn_kpp_6739726          1  44fz"
      ]
     },
     "execution_count": 7,
     "metadata": {
      "tags": []
     },
     "output_type": "execute_result"
    }
   ],
   "source": [
    "# Run\n",
    "logs.head(3)"
   ]
  },
  {
   "cell_type": "code",
   "execution_count": 8,
   "metadata": {
    "colab": {
     "base_uri": "https://localhost:8080/",
     "height": 402
    },
    "id": "D6-ndbJyuanN",
    "outputId": "7465c2a0-b462-4f25-fb84-abddff57a4b5"
   },
   "outputs": [
    {
     "data": {
      "text/html": [
       "<div>\n",
       "<style scoped>\n",
       "    .dataframe tbody tr th:only-of-type {\n",
       "        vertical-align: middle;\n",
       "    }\n",
       "\n",
       "    .dataframe tbody tr th {\n",
       "        vertical-align: top;\n",
       "    }\n",
       "\n",
       "    .dataframe thead th {\n",
       "        text-align: right;\n",
       "    }\n",
       "</style>\n",
       "<table border=\"1\" class=\"dataframe\">\n",
       "  <thead>\n",
       "    <tr style=\"text-align: right;\">\n",
       "      <th></th>\n",
       "      <th>inn_kpp</th>\n",
       "      <th>actual_recommended_pn_lot</th>\n",
       "      <th>similarity_score</th>\n",
       "    </tr>\n",
       "  </thead>\n",
       "  <tbody>\n",
       "    <tr>\n",
       "      <th>0</th>\n",
       "      <td>inn_kpp_1432854</td>\n",
       "      <td>pn_lot_5166992</td>\n",
       "      <td>0.000148</td>\n",
       "    </tr>\n",
       "    <tr>\n",
       "      <th>1</th>\n",
       "      <td>inn_kpp_1432854</td>\n",
       "      <td>pn_lot_8224392</td>\n",
       "      <td>0.000148</td>\n",
       "    </tr>\n",
       "    <tr>\n",
       "      <th>2</th>\n",
       "      <td>inn_kpp_1432854</td>\n",
       "      <td>pn_lot_9976210</td>\n",
       "      <td>0.000146</td>\n",
       "    </tr>\n",
       "    <tr>\n",
       "      <th>3</th>\n",
       "      <td>inn_kpp_1432854</td>\n",
       "      <td>pn_lot_6541721</td>\n",
       "      <td>0.000144</td>\n",
       "    </tr>\n",
       "    <tr>\n",
       "      <th>4</th>\n",
       "      <td>inn_kpp_1432854</td>\n",
       "      <td>pn_lot_9099282</td>\n",
       "      <td>0.000141</td>\n",
       "    </tr>\n",
       "    <tr>\n",
       "      <th>...</th>\n",
       "      <td>...</td>\n",
       "      <td>...</td>\n",
       "      <td>...</td>\n",
       "    </tr>\n",
       "    <tr>\n",
       "      <th>1745</th>\n",
       "      <td>inn_kpp_996181</td>\n",
       "      <td>pn_lot_9888480</td>\n",
       "      <td>0.004073</td>\n",
       "    </tr>\n",
       "    <tr>\n",
       "      <th>1746</th>\n",
       "      <td>inn_kpp_996181</td>\n",
       "      <td>pn_lot_4346602</td>\n",
       "      <td>0.004073</td>\n",
       "    </tr>\n",
       "    <tr>\n",
       "      <th>1747</th>\n",
       "      <td>inn_kpp_996181</td>\n",
       "      <td>pn_lot_2655157</td>\n",
       "      <td>0.004073</td>\n",
       "    </tr>\n",
       "    <tr>\n",
       "      <th>1748</th>\n",
       "      <td>inn_kpp_996181</td>\n",
       "      <td>pn_lot_2356145</td>\n",
       "      <td>0.004051</td>\n",
       "    </tr>\n",
       "    <tr>\n",
       "      <th>1749</th>\n",
       "      <td>inn_kpp_996181</td>\n",
       "      <td>pn_lot_6536434</td>\n",
       "      <td>0.004051</td>\n",
       "    </tr>\n",
       "  </tbody>\n",
       "</table>\n",
       "<p>1750 rows × 3 columns</p>\n",
       "</div>"
      ],
      "text/plain": [
       "              inn_kpp actual_recommended_pn_lot  similarity_score\n",
       "0     inn_kpp_1432854            pn_lot_5166992          0.000148\n",
       "1     inn_kpp_1432854            pn_lot_8224392          0.000148\n",
       "2     inn_kpp_1432854            pn_lot_9976210          0.000146\n",
       "3     inn_kpp_1432854            pn_lot_6541721          0.000144\n",
       "4     inn_kpp_1432854            pn_lot_9099282          0.000141\n",
       "...               ...                       ...               ...\n",
       "1745   inn_kpp_996181            pn_lot_9888480          0.004073\n",
       "1746   inn_kpp_996181            pn_lot_4346602          0.004073\n",
       "1747   inn_kpp_996181            pn_lot_2655157          0.004073\n",
       "1748   inn_kpp_996181            pn_lot_2356145          0.004051\n",
       "1749   inn_kpp_996181            pn_lot_6536434          0.004051\n",
       "\n",
       "[1750 rows x 3 columns]"
      ]
     },
     "execution_count": 8,
     "metadata": {
      "tags": []
     },
     "output_type": "execute_result"
    }
   ],
   "source": [
    "answs = pd.read_csv(\"C:\\\\Users\\\\Timofey\\\\Downloads\\\\data\\\\org_res.csv\", sep=';')\n",
    "answs"
   ]
  },
  {
   "cell_type": "code",
   "execution_count": 10,
   "metadata": {
    "colab": {
     "base_uri": "https://localhost:8080/"
    },
    "id": "g93KcpzZunDT",
    "outputId": "b2a266b6-50bf-4ea3-b1bf-7b42ef92748c"
   },
   "outputs": [
    {
     "name": "stdout",
     "output_type": "stream",
     "text": [
      "327\n"
     ]
    }
   ],
   "source": [
    "score_ = 0\n",
    "for i in range(len(answs)):\n",
    "    if sum((logs['participant_inn_kpp_anon'] == answs.loc[i, 'inn_kpp']) & (logs['pn_lot_anon'] == answs.loc[i, 'actual_recommended_pn_lot'])) > 0:\n",
    "        score_ += 1\n",
    "print(score_)"
   ]
  },
  {
   "cell_type": "code",
   "execution_count": null,
   "metadata": {
    "id": "1u3pMaqhLsT1"
   },
   "outputs": [],
   "source": [
    "# regions = set(df['region_code'].values)\n",
    "# region_part = np.full(max(regions) + 1, 0)\n",
    "# region_price = np.full(max(regions) + 1, 0)\n",
    "\n",
    "# for i in range(20000):\n",
    "#     lot = logs.loc[logs.index[i], 'pn_lot_anon']\n",
    "#     cur_lot = df[df['pn_lot_anon'] == lot]\n",
    "#     if len(cur_lot) == 0:\n",
    "#         continue\n",
    "#     cur_region = cur_lot['region_code'].values[0]\n",
    "#     region_part[cur_region] += 1\n",
    "#     region_price[cur_region] += (cur_lot['lot_price'].values[0])\n",
    "#     if i % 1000 == 0:\n",
    "#         print(i)\n",
    "# for i in df.index:\n",
    "#     df.loc[i, 'region_part'] = region_part[df.loc[i, 'region_code']]\n",
    "#     df.loc[i, 'region_price'] = region_price[df.loc[i, 'region_code']]"
   ]
  },
  {
   "cell_type": "code",
   "execution_count": 133,
   "metadata": {
    "colab": {
     "base_uri": "https://localhost:8080/",
     "height": 106
    },
    "id": "UGtbM1gqGlos",
    "outputId": "f5ce166f-64a4-4bff-b3c8-34a68f10359f"
   },
   "outputs": [
    {
     "data": {
      "text/html": [
       "<div>\n",
       "<style scoped>\n",
       "    .dataframe tbody tr th:only-of-type {\n",
       "        vertical-align: middle;\n",
       "    }\n",
       "\n",
       "    .dataframe tbody tr th {\n",
       "        vertical-align: top;\n",
       "    }\n",
       "\n",
       "    .dataframe thead th {\n",
       "        text-align: right;\n",
       "    }\n",
       "</style>\n",
       "<table border=\"1\" class=\"dataframe\">\n",
       "  <thead>\n",
       "    <tr style=\"text-align: right;\">\n",
       "      <th></th>\n",
       "      <th>pn_lot_anon</th>\n",
       "      <th>fz</th>\n",
       "      <th>region_code</th>\n",
       "      <th>purchase_name</th>\n",
       "      <th>lot_price</th>\n",
       "      <th>okpd2_code</th>\n",
       "      <th>item_descriptions</th>\n",
       "      <th>date_delta</th>\n",
       "    </tr>\n",
       "  </thead>\n",
       "  <tbody>\n",
       "    <tr>\n",
       "      <th>359425</th>\n",
       "      <td>pn_lot_9628930</td>\n",
       "      <td>44fz</td>\n",
       "      <td>63</td>\n",
       "      <td>Поставка лекарственного средства для нужд  Гос...</td>\n",
       "      <td>13.594686</td>\n",
       "      <td>drug</td>\n",
       "      <td>АЗИТРОМИЦИН ЛИОФИЛИЗАТ ДЛЯ ПРИГОТОВЛЕНИЯ РАСТВ...</td>\n",
       "      <td>444</td>\n",
       "    </tr>\n",
       "    <tr>\n",
       "      <th>605295</th>\n",
       "      <td>pn_lot_1977227</td>\n",
       "      <td>44fz</td>\n",
       "      <td>76</td>\n",
       "      <td>Поставка продуктов</td>\n",
       "      <td>11.101206</td>\n",
       "      <td>10.8</td>\n",
       "      <td>Услуги по производству прочих пищевых продукто...</td>\n",
       "      <td>522</td>\n",
       "    </tr>\n",
       "  </tbody>\n",
       "</table>\n",
       "</div>"
      ],
      "text/plain": [
       "           pn_lot_anon    fz  region_code  \\\n",
       "359425  pn_lot_9628930  44fz           63   \n",
       "605295  pn_lot_1977227  44fz           76   \n",
       "\n",
       "                                            purchase_name  lot_price  \\\n",
       "359425  Поставка лекарственного средства для нужд  Гос...  13.594686   \n",
       "605295                                 Поставка продуктов  11.101206   \n",
       "\n",
       "       okpd2_code                                  item_descriptions  \\\n",
       "359425       drug  АЗИТРОМИЦИН ЛИОФИЛИЗАТ ДЛЯ ПРИГОТОВЛЕНИЯ РАСТВ...   \n",
       "605295       10.8  Услуги по производству прочих пищевых продукто...   \n",
       "\n",
       "        date_delta  \n",
       "359425         444  \n",
       "605295         522  "
      ]
     },
     "execution_count": 133,
     "metadata": {
      "tags": []
     },
     "output_type": "execute_result"
    }
   ],
   "source": [
    "# Run\n",
    "train, test = train_test_split(df, random_state=1337, test_size=0.17)\n",
    "train.head(2)"
   ]
  },
  {
   "cell_type": "code",
   "execution_count": 50,
   "metadata": {
    "id": "lvvFjMg2PavP"
   },
   "outputs": [],
   "source": [
    "# train.to_csv(\"C:\\\\Users\\\\Timofey\\\\Downloads\\\\data\\\\train_comp.csv\", sep=';', index=False)\n",
    "# test.to_csv(\"C:\\\\Users\\\\Timofey\\\\Downloads\\\\data\\\\test_comp.csv\", sep=';', index=False)"
   ]
  },
  {
   "cell_type": "code",
   "execution_count": null,
   "metadata": {
    "id": "_cyWdVvvUFYZ"
   },
   "outputs": [],
   "source": [
    "# logs1 = logs.sample(frac=1).reset_index(drop=True)\n",
    "# logs1 = logs1.sample(frac=1).reset_index(drop=True)\n",
    "# logs1"
   ]
  },
  {
   "cell_type": "code",
   "execution_count": 149,
   "metadata": {
    "id": "0r9zTxdJUPhW"
   },
   "outputs": [],
   "source": [
    "# logs_p = set(logs1.loc[:50, 'participant_inn_kpp_anon'])"
   ]
  },
  {
   "cell_type": "code",
   "execution_count": 150,
   "metadata": {
    "id": "qTyq95eFUumX"
   },
   "outputs": [],
   "source": [
    "# logs_t = logs1[[(logs1.loc[i, 'participant_inn_kpp_anon'] in logs_p) for i in range(len(logs))]]"
   ]
  },
  {
   "cell_type": "code",
   "execution_count": 152,
   "metadata": {
    "id": "OYTGMH3cVjsB"
   },
   "outputs": [],
   "source": [
    "# logs_t.to_csv(\"C:\\\\Users\\\\Timofey\\\\Downloads\\\\data\\\\logs_comp_50.csv\", sep=';', index=False)"
   ]
  },
  {
   "cell_type": "code",
   "execution_count": 151,
   "metadata": {
    "colab": {
     "base_uri": "https://localhost:8080/"
    },
    "id": "T8o9UndhUYxV",
    "outputId": "c872d697-25e1-42b1-cbba-c8f5f393c4ef"
   },
   "outputs": [
    {
     "data": {
      "text/plain": [
       "477.6"
      ]
     },
     "execution_count": 151,
     "metadata": {
      "tags": []
     },
     "output_type": "execute_result"
    }
   ],
   "source": [
    "# len(logs_t) / len(set(logs_t['participant_inn_kpp_anon']))"
   ]
  },
  {
   "cell_type": "code",
   "execution_count": 155,
   "metadata": {
    "colab": {
     "base_uri": "https://localhost:8080/",
     "height": 476
    },
    "id": "aq1tm_DIG_0z",
    "outputId": "0df0ff31-b04f-49c9-dd36-988d0ea5fa80"
   },
   "outputs": [
    {
     "name": "stderr",
     "output_type": "stream",
     "text": [
      "c:\\users\\timofey\\anaconda3\\lib\\site-packages\\pandas\\core\\frame.py:4031: SettingWithCopyWarning: \n",
      "A value is trying to be set on a copy of a slice from a DataFrame\n",
      "\n",
      "See the caveats in the documentation: http://pandas.pydata.org/pandas-docs/stable/indexing.html#indexing-view-versus-copy\n",
      "  return super(DataFrame,\n"
     ]
    },
    {
     "data": {
      "text/html": [
       "<div>\n",
       "<style scoped>\n",
       "    .dataframe tbody tr th:only-of-type {\n",
       "        vertical-align: middle;\n",
       "    }\n",
       "\n",
       "    .dataframe tbody tr th {\n",
       "        vertical-align: top;\n",
       "    }\n",
       "\n",
       "    .dataframe thead th {\n",
       "        text-align: right;\n",
       "    }\n",
       "</style>\n",
       "<table border=\"1\" class=\"dataframe\">\n",
       "  <thead>\n",
       "    <tr style=\"text-align: right;\">\n",
       "      <th></th>\n",
       "      <th>0</th>\n",
       "      <th>1</th>\n",
       "      <th>2</th>\n",
       "      <th>3</th>\n",
       "      <th>4</th>\n",
       "      <th>5</th>\n",
       "      <th>6</th>\n",
       "      <th>7</th>\n",
       "      <th>8</th>\n",
       "      <th>9</th>\n",
       "      <th>...</th>\n",
       "      <th>135</th>\n",
       "      <th>136</th>\n",
       "      <th>137</th>\n",
       "      <th>138</th>\n",
       "      <th>139</th>\n",
       "      <th>lot_price</th>\n",
       "      <th>date_delta</th>\n",
       "      <th>mean_region_price</th>\n",
       "      <th>mean_okpd_price</th>\n",
       "      <th>pn_lot_anon</th>\n",
       "    </tr>\n",
       "  </thead>\n",
       "  <tbody>\n",
       "    <tr>\n",
       "      <th>0</th>\n",
       "      <td>1.053140</td>\n",
       "      <td>-0.087171</td>\n",
       "      <td>-0.335568</td>\n",
       "      <td>0.844446</td>\n",
       "      <td>-0.206855</td>\n",
       "      <td>0.007758</td>\n",
       "      <td>-0.018176</td>\n",
       "      <td>0.015024</td>\n",
       "      <td>-0.033635</td>\n",
       "      <td>-0.013185</td>\n",
       "      <td>...</td>\n",
       "      <td>-0.010567</td>\n",
       "      <td>-0.004801</td>\n",
       "      <td>-0.003396</td>\n",
       "      <td>-0.015506</td>\n",
       "      <td>-0.013429</td>\n",
       "      <td>13.248080</td>\n",
       "      <td>-0.572917</td>\n",
       "      <td>14.212592</td>\n",
       "      <td>14.091164</td>\n",
       "      <td>pn_lot_2383450</td>\n",
       "    </tr>\n",
       "    <tr>\n",
       "      <th>1</th>\n",
       "      <td>1.019572</td>\n",
       "      <td>-0.081213</td>\n",
       "      <td>-0.086821</td>\n",
       "      <td>-0.090541</td>\n",
       "      <td>0.046922</td>\n",
       "      <td>-0.108823</td>\n",
       "      <td>-0.076115</td>\n",
       "      <td>-0.105112</td>\n",
       "      <td>-0.137111</td>\n",
       "      <td>-0.382191</td>\n",
       "      <td>...</td>\n",
       "      <td>0.003069</td>\n",
       "      <td>-0.004478</td>\n",
       "      <td>-0.000438</td>\n",
       "      <td>-0.000941</td>\n",
       "      <td>-0.002276</td>\n",
       "      <td>11.202784</td>\n",
       "      <td>-0.514583</td>\n",
       "      <td>14.179125</td>\n",
       "      <td>15.368170</td>\n",
       "      <td>pn_lot_1425755</td>\n",
       "    </tr>\n",
       "    <tr>\n",
       "      <th>2</th>\n",
       "      <td>1.023186</td>\n",
       "      <td>-0.084600</td>\n",
       "      <td>-0.043815</td>\n",
       "      <td>-0.074849</td>\n",
       "      <td>0.050243</td>\n",
       "      <td>-0.203795</td>\n",
       "      <td>0.910767</td>\n",
       "      <td>0.224685</td>\n",
       "      <td>0.090840</td>\n",
       "      <td>0.030040</td>\n",
       "      <td>...</td>\n",
       "      <td>0.000496</td>\n",
       "      <td>-0.005808</td>\n",
       "      <td>0.000635</td>\n",
       "      <td>0.001354</td>\n",
       "      <td>-0.000495</td>\n",
       "      <td>12.578811</td>\n",
       "      <td>-0.879167</td>\n",
       "      <td>14.335817</td>\n",
       "      <td>16.878293</td>\n",
       "      <td>pn_lot_5639497</td>\n",
       "    </tr>\n",
       "    <tr>\n",
       "      <th>3</th>\n",
       "      <td>1.003532</td>\n",
       "      <td>-0.097833</td>\n",
       "      <td>-0.067031</td>\n",
       "      <td>-0.077527</td>\n",
       "      <td>0.006039</td>\n",
       "      <td>-0.086640</td>\n",
       "      <td>-0.046530</td>\n",
       "      <td>-0.072922</td>\n",
       "      <td>-0.077614</td>\n",
       "      <td>-0.057446</td>\n",
       "      <td>...</td>\n",
       "      <td>-0.028425</td>\n",
       "      <td>-0.018796</td>\n",
       "      <td>-0.006141</td>\n",
       "      <td>-0.017130</td>\n",
       "      <td>-0.006891</td>\n",
       "      <td>11.018727</td>\n",
       "      <td>-0.485417</td>\n",
       "      <td>14.103663</td>\n",
       "      <td>12.781543</td>\n",
       "      <td>pn_lot_7203924</td>\n",
       "    </tr>\n",
       "    <tr>\n",
       "      <th>4</th>\n",
       "      <td>0.994470</td>\n",
       "      <td>-0.079218</td>\n",
       "      <td>-0.077956</td>\n",
       "      <td>-0.097930</td>\n",
       "      <td>0.009343</td>\n",
       "      <td>-0.074858</td>\n",
       "      <td>-0.032025</td>\n",
       "      <td>-0.041522</td>\n",
       "      <td>-0.040974</td>\n",
       "      <td>-0.013656</td>\n",
       "      <td>...</td>\n",
       "      <td>-0.003873</td>\n",
       "      <td>-0.010395</td>\n",
       "      <td>-0.005104</td>\n",
       "      <td>-0.009843</td>\n",
       "      <td>-0.002265</td>\n",
       "      <td>12.566910</td>\n",
       "      <td>-0.700000</td>\n",
       "      <td>14.636622</td>\n",
       "      <td>13.923086</td>\n",
       "      <td>pn_lot_9070973</td>\n",
       "    </tr>\n",
       "    <tr>\n",
       "      <th>5</th>\n",
       "      <td>1.015875</td>\n",
       "      <td>-0.106029</td>\n",
       "      <td>-0.062124</td>\n",
       "      <td>-0.096187</td>\n",
       "      <td>0.003197</td>\n",
       "      <td>-0.104512</td>\n",
       "      <td>-0.040857</td>\n",
       "      <td>-0.090163</td>\n",
       "      <td>-0.089683</td>\n",
       "      <td>-0.087607</td>\n",
       "      <td>...</td>\n",
       "      <td>-0.005657</td>\n",
       "      <td>-0.001860</td>\n",
       "      <td>-0.000983</td>\n",
       "      <td>-0.006058</td>\n",
       "      <td>-0.002111</td>\n",
       "      <td>9.870259</td>\n",
       "      <td>-0.297917</td>\n",
       "      <td>14.458627</td>\n",
       "      <td>13.291282</td>\n",
       "      <td>pn_lot_9418115</td>\n",
       "    </tr>\n",
       "    <tr>\n",
       "      <th>6</th>\n",
       "      <td>0.986436</td>\n",
       "      <td>-0.084861</td>\n",
       "      <td>-0.068086</td>\n",
       "      <td>-0.087677</td>\n",
       "      <td>-0.004187</td>\n",
       "      <td>-0.056696</td>\n",
       "      <td>-0.021550</td>\n",
       "      <td>-0.030305</td>\n",
       "      <td>-0.025959</td>\n",
       "      <td>-0.010071</td>\n",
       "      <td>...</td>\n",
       "      <td>-0.025944</td>\n",
       "      <td>-0.011143</td>\n",
       "      <td>-0.009244</td>\n",
       "      <td>-0.021822</td>\n",
       "      <td>-0.014678</td>\n",
       "      <td>11.023927</td>\n",
       "      <td>-0.318750</td>\n",
       "      <td>14.701786</td>\n",
       "      <td>13.471014</td>\n",
       "      <td>pn_lot_6212471</td>\n",
       "    </tr>\n",
       "    <tr>\n",
       "      <th>7</th>\n",
       "      <td>1.056802</td>\n",
       "      <td>-0.090220</td>\n",
       "      <td>-0.340857</td>\n",
       "      <td>0.841059</td>\n",
       "      <td>-0.206136</td>\n",
       "      <td>0.001636</td>\n",
       "      <td>-0.020720</td>\n",
       "      <td>0.011163</td>\n",
       "      <td>-0.038050</td>\n",
       "      <td>-0.015070</td>\n",
       "      <td>...</td>\n",
       "      <td>-0.001222</td>\n",
       "      <td>0.001433</td>\n",
       "      <td>-0.001089</td>\n",
       "      <td>-0.003716</td>\n",
       "      <td>-0.005324</td>\n",
       "      <td>13.378379</td>\n",
       "      <td>-0.335417</td>\n",
       "      <td>14.465506</td>\n",
       "      <td>14.091164</td>\n",
       "      <td>pn_lot_6479521</td>\n",
       "    </tr>\n",
       "    <tr>\n",
       "      <th>8</th>\n",
       "      <td>1.022216</td>\n",
       "      <td>-0.093726</td>\n",
       "      <td>-0.072997</td>\n",
       "      <td>-0.108154</td>\n",
       "      <td>0.024406</td>\n",
       "      <td>-0.103035</td>\n",
       "      <td>-0.059700</td>\n",
       "      <td>-0.098795</td>\n",
       "      <td>-0.109936</td>\n",
       "      <td>-0.074839</td>\n",
       "      <td>...</td>\n",
       "      <td>0.000658</td>\n",
       "      <td>-0.000564</td>\n",
       "      <td>0.001009</td>\n",
       "      <td>0.000633</td>\n",
       "      <td>0.000638</td>\n",
       "      <td>12.206073</td>\n",
       "      <td>-0.770833</td>\n",
       "      <td>14.458627</td>\n",
       "      <td>13.751453</td>\n",
       "      <td>pn_lot_9518315</td>\n",
       "    </tr>\n",
       "    <tr>\n",
       "      <th>9</th>\n",
       "      <td>1.043159</td>\n",
       "      <td>-0.113544</td>\n",
       "      <td>-0.202554</td>\n",
       "      <td>-0.111924</td>\n",
       "      <td>0.398010</td>\n",
       "      <td>0.856893</td>\n",
       "      <td>0.044226</td>\n",
       "      <td>0.048769</td>\n",
       "      <td>0.058997</td>\n",
       "      <td>0.010404</td>\n",
       "      <td>...</td>\n",
       "      <td>0.000250</td>\n",
       "      <td>-0.005166</td>\n",
       "      <td>-0.006837</td>\n",
       "      <td>-0.005793</td>\n",
       "      <td>0.003861</td>\n",
       "      <td>10.613008</td>\n",
       "      <td>-0.837500</td>\n",
       "      <td>15.567329</td>\n",
       "      <td>14.434437</td>\n",
       "      <td>pn_lot_59552</td>\n",
       "    </tr>\n",
       "  </tbody>\n",
       "</table>\n",
       "<p>10 rows × 145 columns</p>\n",
       "</div>"
      ],
      "text/plain": [
       "          0         1         2         3         4         5         6  \\\n",
       "0  1.053140 -0.087171 -0.335568  0.844446 -0.206855  0.007758 -0.018176   \n",
       "1  1.019572 -0.081213 -0.086821 -0.090541  0.046922 -0.108823 -0.076115   \n",
       "2  1.023186 -0.084600 -0.043815 -0.074849  0.050243 -0.203795  0.910767   \n",
       "3  1.003532 -0.097833 -0.067031 -0.077527  0.006039 -0.086640 -0.046530   \n",
       "4  0.994470 -0.079218 -0.077956 -0.097930  0.009343 -0.074858 -0.032025   \n",
       "5  1.015875 -0.106029 -0.062124 -0.096187  0.003197 -0.104512 -0.040857   \n",
       "6  0.986436 -0.084861 -0.068086 -0.087677 -0.004187 -0.056696 -0.021550   \n",
       "7  1.056802 -0.090220 -0.340857  0.841059 -0.206136  0.001636 -0.020720   \n",
       "8  1.022216 -0.093726 -0.072997 -0.108154  0.024406 -0.103035 -0.059700   \n",
       "9  1.043159 -0.113544 -0.202554 -0.111924  0.398010  0.856893  0.044226   \n",
       "\n",
       "          7         8         9  ...       135       136       137       138  \\\n",
       "0  0.015024 -0.033635 -0.013185  ... -0.010567 -0.004801 -0.003396 -0.015506   \n",
       "1 -0.105112 -0.137111 -0.382191  ...  0.003069 -0.004478 -0.000438 -0.000941   \n",
       "2  0.224685  0.090840  0.030040  ...  0.000496 -0.005808  0.000635  0.001354   \n",
       "3 -0.072922 -0.077614 -0.057446  ... -0.028425 -0.018796 -0.006141 -0.017130   \n",
       "4 -0.041522 -0.040974 -0.013656  ... -0.003873 -0.010395 -0.005104 -0.009843   \n",
       "5 -0.090163 -0.089683 -0.087607  ... -0.005657 -0.001860 -0.000983 -0.006058   \n",
       "6 -0.030305 -0.025959 -0.010071  ... -0.025944 -0.011143 -0.009244 -0.021822   \n",
       "7  0.011163 -0.038050 -0.015070  ... -0.001222  0.001433 -0.001089 -0.003716   \n",
       "8 -0.098795 -0.109936 -0.074839  ...  0.000658 -0.000564  0.001009  0.000633   \n",
       "9  0.048769  0.058997  0.010404  ...  0.000250 -0.005166 -0.006837 -0.005793   \n",
       "\n",
       "        139  lot_price  date_delta  mean_region_price  mean_okpd_price  \\\n",
       "0 -0.013429  13.248080   -0.572917          14.212592        14.091164   \n",
       "1 -0.002276  11.202784   -0.514583          14.179125        15.368170   \n",
       "2 -0.000495  12.578811   -0.879167          14.335817        16.878293   \n",
       "3 -0.006891  11.018727   -0.485417          14.103663        12.781543   \n",
       "4 -0.002265  12.566910   -0.700000          14.636622        13.923086   \n",
       "5 -0.002111   9.870259   -0.297917          14.458627        13.291282   \n",
       "6 -0.014678  11.023927   -0.318750          14.701786        13.471014   \n",
       "7 -0.005324  13.378379   -0.335417          14.465506        14.091164   \n",
       "8  0.000638  12.206073   -0.770833          14.458627        13.751453   \n",
       "9  0.003861  10.613008   -0.837500          15.567329        14.434437   \n",
       "\n",
       "      pn_lot_anon  \n",
       "0  pn_lot_2383450  \n",
       "1  pn_lot_1425755  \n",
       "2  pn_lot_5639497  \n",
       "3  pn_lot_7203924  \n",
       "4  pn_lot_9070973  \n",
       "5  pn_lot_9418115  \n",
       "6  pn_lot_6212471  \n",
       "7  pn_lot_6479521  \n",
       "8  pn_lot_9518315  \n",
       "9    pn_lot_59552  \n",
       "\n",
       "[10 rows x 145 columns]"
      ]
     },
     "execution_count": 155,
     "metadata": {
      "tags": []
     },
     "output_type": "execute_result"
    }
   ],
   "source": [
    "# Run\n",
    "train, test = preprocessing_after_split(train, test, logs)\n",
    "test.head(10)"
   ]
  },
  {
   "cell_type": "code",
   "execution_count": 156,
   "metadata": {
    "colab": {
     "base_uri": "https://localhost:8080/",
     "height": 155
    },
    "id": "l-pc14WcLeeX",
    "outputId": "97c08f1a-c8f3-4461-80a6-5004fc92948f"
   },
   "outputs": [
    {
     "data": {
      "text/html": [
       "<div>\n",
       "<style scoped>\n",
       "    .dataframe tbody tr th:only-of-type {\n",
       "        vertical-align: middle;\n",
       "    }\n",
       "\n",
       "    .dataframe tbody tr th {\n",
       "        vertical-align: top;\n",
       "    }\n",
       "\n",
       "    .dataframe thead th {\n",
       "        text-align: right;\n",
       "    }\n",
       "</style>\n",
       "<table border=\"1\" class=\"dataframe\">\n",
       "  <thead>\n",
       "    <tr style=\"text-align: right;\">\n",
       "      <th></th>\n",
       "      <th>0</th>\n",
       "      <th>1</th>\n",
       "      <th>2</th>\n",
       "      <th>3</th>\n",
       "      <th>4</th>\n",
       "      <th>5</th>\n",
       "      <th>6</th>\n",
       "      <th>7</th>\n",
       "      <th>8</th>\n",
       "      <th>9</th>\n",
       "      <th>...</th>\n",
       "      <th>134</th>\n",
       "      <th>135</th>\n",
       "      <th>136</th>\n",
       "      <th>137</th>\n",
       "      <th>138</th>\n",
       "      <th>139</th>\n",
       "      <th>lot_price</th>\n",
       "      <th>date_delta</th>\n",
       "      <th>mean_region_price</th>\n",
       "      <th>mean_okpd_price</th>\n",
       "    </tr>\n",
       "  </thead>\n",
       "  <tbody>\n",
       "    <tr>\n",
       "      <th>0</th>\n",
       "      <td>1.016113</td>\n",
       "      <td>-0.082273</td>\n",
       "      <td>-0.083825</td>\n",
       "      <td>-0.098527</td>\n",
       "      <td>0.027805</td>\n",
       "      <td>-0.084580</td>\n",
       "      <td>-0.054083</td>\n",
       "      <td>-0.065292</td>\n",
       "      <td>-0.052497</td>\n",
       "      <td>-0.022757</td>\n",
       "      <td>...</td>\n",
       "      <td>-0.005533</td>\n",
       "      <td>0.003078</td>\n",
       "      <td>-0.000908</td>\n",
       "      <td>0.001358</td>\n",
       "      <td>-0.002338</td>\n",
       "      <td>0.001029</td>\n",
       "      <td>13.081543</td>\n",
       "      <td>-0.130705</td>\n",
       "      <td>14.103663</td>\n",
       "      <td>15.368170</td>\n",
       "    </tr>\n",
       "    <tr>\n",
       "      <th>1</th>\n",
       "      <td>0.988282</td>\n",
       "      <td>-0.079418</td>\n",
       "      <td>-0.070717</td>\n",
       "      <td>-0.093128</td>\n",
       "      <td>0.000273</td>\n",
       "      <td>-0.048355</td>\n",
       "      <td>-0.022990</td>\n",
       "      <td>-0.028202</td>\n",
       "      <td>-0.029308</td>\n",
       "      <td>-0.011633</td>\n",
       "      <td>...</td>\n",
       "      <td>-0.050100</td>\n",
       "      <td>-0.008897</td>\n",
       "      <td>0.007136</td>\n",
       "      <td>-0.007588</td>\n",
       "      <td>-0.020271</td>\n",
       "      <td>-0.019670</td>\n",
       "      <td>12.220276</td>\n",
       "      <td>-0.703320</td>\n",
       "      <td>14.957516</td>\n",
       "      <td>13.140007</td>\n",
       "    </tr>\n",
       "  </tbody>\n",
       "</table>\n",
       "<p>2 rows × 144 columns</p>\n",
       "</div>"
      ],
      "text/plain": [
       "          0         1         2         3         4         5         6  \\\n",
       "0  1.016113 -0.082273 -0.083825 -0.098527  0.027805 -0.084580 -0.054083   \n",
       "1  0.988282 -0.079418 -0.070717 -0.093128  0.000273 -0.048355 -0.022990   \n",
       "\n",
       "          7         8         9  ...       134       135       136       137  \\\n",
       "0 -0.065292 -0.052497 -0.022757  ... -0.005533  0.003078 -0.000908  0.001358   \n",
       "1 -0.028202 -0.029308 -0.011633  ... -0.050100 -0.008897  0.007136 -0.007588   \n",
       "\n",
       "        138       139  lot_price  date_delta  mean_region_price  \\\n",
       "0 -0.002338  0.001029  13.081543   -0.130705          14.103663   \n",
       "1 -0.020271 -0.019670  12.220276   -0.703320          14.957516   \n",
       "\n",
       "   mean_okpd_price  \n",
       "0        15.368170  \n",
       "1        13.140007  \n",
       "\n",
       "[2 rows x 144 columns]"
      ]
     },
     "execution_count": 156,
     "metadata": {
      "tags": []
     },
     "output_type": "execute_result"
    }
   ],
   "source": [
    "# Run\n",
    "X_train = train.loc[:, train.columns[:-1]]\n",
    "X_test = test.loc[:, test.columns[:-1]]\n",
    "participants = list(set(logs['participant_inn_kpp_anon']))\n",
    "X_train.head(2)"
   ]
  },
  {
   "cell_type": "code",
   "execution_count": 157,
   "metadata": {
    "colab": {
     "base_uri": "https://localhost:8080/"
    },
    "id": "U6H7mA-UWwFr",
    "outputId": "8236ce6a-f493-4229-bc54-b8929dab4350"
   },
   "outputs": [
    {
     "data": {
      "text/plain": [
       "477.6"
      ]
     },
     "execution_count": 157,
     "metadata": {
      "tags": []
     },
     "output_type": "execute_result"
    }
   ],
   "source": [
    "len(logs) / len(participants)"
   ]
  },
  {
   "cell_type": "code",
   "execution_count": 38,
   "metadata": {
    "id": "YCw9MJ1yKNYl"
   },
   "outputs": [],
   "source": [
    "# Run\n",
    "from sklearn.experimental import enable_hist_gradient_boosting\n",
    "from sklearn.ensemble import HistGradientBoostingClassifier\n",
    "from sklearn.ensemble import RandomForestClassifier\n",
    "from sklearn.ensemble import RandomForestRegressor"
   ]
  },
  {
   "cell_type": "code",
   "execution_count": 158,
   "metadata": {
    "id": "j5sN1FoKUaiY"
   },
   "outputs": [],
   "source": [
    "# Run\n",
    "def recall_score(y_true, y_pred):\n",
    "    df_pred = pd.DataFrame(y_pred, columns=['c1'])\n",
    "    df_pred = df_pred.sort_values(by='c1', ascending=False)\n",
    "    cnt_true_pred = 0\n",
    "    for i in range(35):\n",
    "        if y_true[df_pred.index[i]] >= 1:\n",
    "            cnt_true_pred += 1\n",
    "    return (cnt_true_pred)"
   ]
  },
  {
   "cell_type": "markdown",
   "metadata": {
    "id": "zLbmeURJaOVD"
   },
   "source": [
    "# Random Forest"
   ]
  },
  {
   "cell_type": "code",
   "execution_count": null,
   "metadata": {
    "id": "9zV3lzsIKDcD"
   },
   "outputs": [],
   "source": [
    "cnt_part = 150\n",
    "sum_guesses = 0\n",
    "total = 0\n",
    "for p_id in range(cnt_part):\n",
    "    if p_id % 5 == 0:\n",
    "        print(p_id)\n",
    "    y_train = np.full(len(X_train), 0)\n",
    "    y_test = np.full(len(X_test), 0)\n",
    "    current_p = participants[p_id]\n",
    "    p_numb = list(set(logs[logs['participant_inn_kpp_anon'] == current_p]['pn_lot_anon']))\n",
    "    for i in range(len(y_train)):\n",
    "        if train.loc[i, 'pn_lot_anon'] in p_numb:\n",
    "            y_train[i] = 1\n",
    "    for i in range(len(y_test)):\n",
    "        if test.loc[i, 'pn_lot_anon'] in p_numb:\n",
    "            y_test[i] = 1\n",
    "    if(sum(y_test) == 0):\n",
    "        continue\n",
    "    model = RandomForestClassifier(random_state=228, max_depth=8, n_jobs=-1, n_estimators=88, verbose=0)\n",
    "    model = model.fit(X_train, y_train)\n",
    "    y_pred = model.predict_proba(X_test)\n",
    "    sum_guesses += recall_score(y_test, y_pred)\n",
    "    total += sum(y_test)"
   ]
  },
  {
   "cell_type": "code",
   "execution_count": null,
   "metadata": {
    "id": "hd0oOYlgx_GT"
   },
   "outputs": [],
   "source": [
    "cnt_part = 150\n",
    "sum_guesses3 = 0\n",
    "total3 = 0\n",
    "y_train = np.full((len(X_train), cnt_part), 0)\n",
    "y_test = np.full((len(X_test), cnt_part), 0)\n",
    "for p_id in range(0, cnt_part):\n",
    "    if p_id % 5 == 0:\n",
    "        print(p_id)\n",
    "    current_p = participants[p_id]\n",
    "    p_numb = list(set(logs[logs['participant_inn_kpp_anon'] == current_p]['pn_lot_anon']))\n",
    "    for i in range(len(y_train)):\n",
    "        if train.loc[i, 'pn_lot_anon'] in p_numb:\n",
    "            y_train[i][p_id] = 1\n",
    "    for i in range(len(y_test)):\n",
    "        if test.loc[i, 'pn_lot_anon'] in p_numb:\n",
    "            y_test[i][p_id] = 1"
   ]
  },
  {
   "cell_type": "code",
   "execution_count": null,
   "metadata": {
    "colab": {
     "base_uri": "https://localhost:8080/"
    },
    "id": "X4wlewCCGgfo",
    "outputId": "0b03e1c8-2847-47f6-a75b-a8e931026d72"
   },
   "outputs": [
    {
     "name": "stderr",
     "output_type": "stream",
     "text": [
      "[Parallel(n_jobs=-1)]: Using backend ThreadingBackend with 12 concurrent workers.\n",
      "[Parallel(n_jobs=-1)]: Done  26 tasks      | elapsed: 30.6min\n",
      "[Parallel(n_jobs=-1)]: Done  62 out of  62 | elapsed: 58.1min finished\n",
      "[Parallel(n_jobs=12)]: Using backend ThreadingBackend with 12 concurrent workers.\n",
      "[Parallel(n_jobs=12)]: Done  26 tasks      | elapsed:    1.4s\n",
      "[Parallel(n_jobs=12)]: Done  62 out of  62 | elapsed:    3.1s finished\n"
     ]
    }
   ],
   "source": [
    "model = RandomForestRegressor(random_state=228, max_depth=8, n_jobs=-1, n_estimators=62, verbose=1) #27% score 0...149\n",
    "model.fit(X_train, y_train)\n",
    "y_pred = model.predict(X_test)"
   ]
  },
  {
   "cell_type": "code",
   "execution_count": null,
   "metadata": {
    "colab": {
     "base_uri": "https://localhost:8080/"
    },
    "id": "R3ARLxlaPJWK",
    "outputId": "9d7cb48b-23e5-428d-ef3d-97f3504f8636"
   },
   "outputs": [
    {
     "name": "stdout",
     "output_type": "stream",
     "text": [
      "0.04977302315448196\n"
     ]
    }
   ],
   "source": [
    "print((sum_guesses + sum_guesses1) / (total1 + total)) # score RFC на 0 ... 219 5%"
   ]
  },
  {
   "cell_type": "code",
   "execution_count": null,
   "metadata": {
    "colab": {
     "base_uri": "https://localhost:8080/"
    },
    "id": "GfK4eEFDPrqM",
    "outputId": "c8112167-039c-40e6-ba34-34cd5e18c03d"
   },
   "outputs": [
    {
     "data": {
      "text/plain": [
       "0.43478260869565216"
      ]
     },
     "execution_count": 409,
     "metadata": {
      "tags": []
     },
     "output_type": "execute_result"
    }
   ],
   "source": [
    "sum_guesses2 / total2 # RFR 0 - 9 43%"
   ]
  },
  {
   "cell_type": "code",
   "execution_count": null,
   "metadata": {
    "colab": {
     "base_uri": "https://localhost:8080/"
    },
    "id": "iCt1QdzZPvWN",
    "outputId": "4e586e49-77ea-471a-e87d-3894b07b85ad"
   },
   "outputs": [
    {
     "name": "stdout",
     "output_type": "stream",
     "text": [
      "0.23076923076923078\n"
     ]
    }
   ],
   "source": []
  },
  {
   "cell_type": "code",
   "execution_count": null,
   "metadata": {
    "colab": {
     "base_uri": "https://localhost:8080/"
    },
    "id": "UFeXkcZsM8aY",
    "outputId": "5d319b1a-c58b-4343-e7ed-6f783f6fbcc0"
   },
   "outputs": [
    {
     "data": {
      "text/plain": [
       "0.27735849056603773"
      ]
     },
     "execution_count": 39,
     "metadata": {
      "tags": []
     },
     "output_type": "execute_result"
    }
   ],
   "source": [
    "# Run\n",
    "sum_good / sum_total # RanForRegr"
   ]
  },
  {
   "cell_type": "markdown",
   "metadata": {
    "id": "fawlkNTMKoCG"
   },
   "source": [
    "# lightGBM + catboost"
   ]
  },
  {
   "cell_type": "code",
   "execution_count": 44,
   "metadata": {
    "id": "OtAuV_5_KrIB"
   },
   "outputs": [],
   "source": [
    "from catboost import CatBoostRegressor\n",
    "from catboost import CatBoostClassifier\n",
    "import lightgbm as lgb\n",
    "import random"
   ]
  },
  {
   "cell_type": "code",
   "execution_count": 159,
   "metadata": {
    "id": "Xn2usQ75TEaN"
   },
   "outputs": [],
   "source": [
    "import warnings\n",
    "warnings.filterwarnings(\"ignore\")"
   ]
  },
  {
   "cell_type": "code",
   "execution_count": 45,
   "metadata": {
    "id": "9w6FUQFZIcae"
   },
   "outputs": [],
   "source": [
    "random.shuffle(participants)    "
   ]
  },
  {
   "cell_type": "code",
   "execution_count": 160,
   "metadata": {
    "colab": {
     "base_uri": "https://localhost:8080/"
    },
    "id": "lPkBmZtpPm8k",
    "outputId": "99976c06-1a4d-4d29-e299-38e88b86b81c"
   },
   "outputs": [
    {
     "name": "stdout",
     "output_type": "stream",
     "text": [
      "0\n",
      "5\n",
      "10\n",
      "15\n",
      "20\n",
      "25\n",
      "30\n",
      "35\n",
      "40\n",
      "45\n"
     ]
    }
   ],
   "source": [
    "cnt_part = len(participants)\n",
    "cnt_good = 0\n",
    "cnt_total = 0\n",
    "train_pn = train['pn_lot_anon'].values\n",
    "test_pn = test['pn_lot_anon'].values\n",
    "for p_id in range(cnt_part):\n",
    "    if p_id % 5 == 0:\n",
    "        print(p_id)\n",
    "    y_train_ = np.full(len(X_train), 0)\n",
    "    y_test_ = np.full(len(X_test), 0)\n",
    "    current_p = participants[p_id]\n",
    "    parts_inn = logs[logs['participant_inn_kpp_anon'] == current_p]\n",
    "    p_numb = list(set(parts_inn['pn_lot_anon']))\n",
    "    for i in range(len(y_train_)):\n",
    "        if train_pn[i] in p_numb:\n",
    "            y_train_[i] = 1\n",
    "            if sum(parts_inn[logs['pn_lot_anon'] == train_pn[i]]['is_winner']) == 1:\n",
    "                y_train_[i] = 2\n",
    "    for i in range(len(y_test_)):\n",
    "        if test_pn[i] in p_numb:\n",
    "            y_test_[i] = 1\n",
    "            if sum(parts_inn[logs['pn_lot_anon'] == test_pn[i]]['is_winner']) == 1:\n",
    "                y_test_[i] = 2\n",
    "    if(sum(y_test_) == 0 or sum(y_train_) == 0):\n",
    "        continue\n",
    "    # column = 'c' + str(p_id)\n",
    "    # y_train[column] = y_train_\n",
    "    # y_test[column] = y_test_\n",
    "    # model = CatBoostRegressor(verbose=1000, n_estimators=600, task_type='GPU', max_depth=9, learning_rate=0.1)\n",
    "    model = lgb.LGBMRegressor(n_estimators=87, max_depth=7, num_leaves=70)\n",
    "    model.fit(X_train, y_train_)\n",
    "    y_pred = model.predict(X_test)\n",
    "    cnt_total += np.count_nonzero(y_test_)\n",
    "    cnt_good += recall_score(y_test_, y_pred)"
   ]
  },
  {
   "cell_type": "code",
   "execution_count": 161,
   "metadata": {
    "colab": {
     "base_uri": "https://localhost:8080/"
    },
    "id": "-ew7XFCcE3dw",
    "outputId": "fe19bfe7-fc72-45c3-8514-f623d9050c9d"
   },
   "outputs": [
    {
     "data": {
      "text/plain": [
       "0.15290602933188485"
      ]
     },
     "execution_count": 161,
     "metadata": {
      "tags": []
     },
     "output_type": "execute_result"
    }
   ],
   "source": [
    "cnt_good / cnt_total"
   ]
  },
  {
   "cell_type": "code",
   "execution_count": 165,
   "metadata": {
    "colab": {
     "base_uri": "https://localhost:8080/"
    },
    "id": "86rcgv1BciRM",
    "outputId": "b389f91c-2123-4117-84d7-db55c14d9e76"
   },
   "outputs": [
    {
     "data": {
      "text/plain": [
       "563"
      ]
     },
     "execution_count": 165,
     "metadata": {
      "tags": []
     },
     "output_type": "execute_result"
    }
   ],
   "source": [
    "cnt_good"
   ]
  },
  {
   "cell_type": "code",
   "execution_count": 162,
   "metadata": {
    "colab": {
     "base_uri": "https://localhost:8080/"
    },
    "id": "1OKG_ka_by_c",
    "outputId": "98d12a49-e35c-44b6-88d8-d3d301b4c676"
   },
   "outputs": [
    {
     "data": {
      "text/plain": [
       "23880"
      ]
     },
     "execution_count": 162,
     "metadata": {
      "tags": []
     },
     "output_type": "execute_result"
    }
   ],
   "source": [
    "len(logs)"
   ]
  },
  {
   "cell_type": "code",
   "execution_count": null,
   "metadata": {
    "colab": {
     "base_uri": "https://localhost:8080/"
    },
    "id": "0KPDfyTqoRLA",
    "outputId": "ecb3a96e-bec0-4fa8-ba5c-d954d5a035bd"
   },
   "outputs": [
    {
     "data": {
      "text/plain": [
       "16499"
      ]
     },
     "execution_count": 196,
     "metadata": {
      "tags": []
     },
     "output_type": "execute_result"
    }
   ],
   "source": [
    "len(set(logs['participant_inn_kpp_anon']))"
   ]
  }
 ],
 "metadata": {
  "accelerator": "GPU",
  "colab": {
   "collapsed_sections": [
    "zLbmeURJaOVD"
   ],
   "name": "Zakupki_preprocessing.ipynb",
   "provenance": []
  },
  "kernelspec": {
   "display_name": "Python 3",
   "language": "python",
   "name": "python3"
  },
  "language_info": {
   "codemirror_mode": {
    "name": "ipython",
    "version": 3
   },
   "file_extension": ".py",
   "mimetype": "text/x-python",
   "name": "python",
   "nbconvert_exporter": "python",
   "pygments_lexer": "ipython3",
   "version": "3.8.5"
  }
 },
 "nbformat": 4,
 "nbformat_minor": 1
}
